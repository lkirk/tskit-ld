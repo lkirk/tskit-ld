{
 "cells": [
  {
   "cell_type": "code",
   "execution_count": 1,
   "id": "0f355500-5bad-46d5-b1f6-16338d637902",
   "metadata": {},
   "outputs": [],
   "source": [
    "import polars as pl"
   ]
  },
  {
   "cell_type": "markdown",
   "id": "b86bb857-6193-4431-8575-8cd30cb21b93",
   "metadata": {},
   "source": [
    "# Problem Statement\n",
    "There were a couple of issues with the previous branch algorithm. 1) it was inefficient, performing many summary function calls for each branch addition/removal. 2) it had some corner cases where we could end up adjusting a node with no samples, causing our running total of the summary function to turn into a NaN value, which effectively \"poisons\" the rest of the LD matrix (the running sum of a NaN is simply a NaN).\n",
    "\n",
    "The old algorithm updated each stat/node to account for samples that already existed on the node by subtracting thir contribution from the stat. We also had to add back in contributions from samples that remained after removing a sample from a node. In short, we were adding/subtracting a stat from the running total twice for every time we propagated the results up the tree to the parents. This means that we were performing two summary function calls and set two union/subtraction calls every time we needed to crawl up the tree to propagate changes to parent nodes.\n",
    "\n",
    "We devised a new algorithm for two-locus branch stats that avoids incremental adjustments and natively avoids computing NaN values. The new algorithm defers all stat updates until the end of branch addition/removal. We do this by storing the nodes that were affected by sample addition or removal, removing the total contribution from all nodes with sample removals. At the end of the routine, we add back in the stat contribution from nodes that are still present after updates.\n",
    "\n",
    "The purpose of this analysis is to gain an understanding of the computational improvements we realize with this new method. The python version of this algorithm isn't optimized for speed, it's written to reflect the C code and to serve as documentation for the inner workings of the C code. So, we won't be measuring runtime, instead we'll be measuring:\n",
    "\n",
    "* Node sample set unions/subtractions\n",
    "* Calls to the summary function\n",
    "\n",
    "The most computationally expensive parts of this algorithm are calls to the summary function and the manipulation of sample set bit arrays. By measuring the relative number of expensive operations that each algorithm performs, we can estimate the time improvements."
   ]
  },
  {
   "cell_type": "markdown",
   "id": "5e25e276-0dcb-4011-8b07-452803c7fdf2",
   "metadata": {},
   "source": [
    "# Simulations\n",
    "Let's simulate some trees with reasonable complexity to benchmark with. "
   ]
  },
  {
   "cell_type": "code",
   "execution_count": 2,
   "id": "623afe30-6e3f-40d8-8f1e-32b638ef150b",
   "metadata": {},
   "outputs": [],
   "source": [
    "import msprime"
   ]
  },
  {
   "cell_type": "code",
   "execution_count": 3,
   "id": "b8570c08-83fe-4c77-bbec-510ad2d321a7",
   "metadata": {},
   "outputs": [],
   "source": [
    "ts = msprime.sim_ancestry(\n",
    "    samples=25,\n",
    "    sequence_length=1e2,\n",
    "    recombination_rate=1e-2,\n",
    "    ploidy=1,\n",
    "    population_size=25,\n",
    "    random_seed=23,\n",
    ")"
   ]
  },
  {
   "cell_type": "markdown",
   "id": "335040f5-3196-4b9e-ac15-089c90e2bc81",
   "metadata": {},
   "source": [
    "The python code still can't handle large trees in a reasonable amount of time, so the simulation must be relatively small"
   ]
  },
  {
   "cell_type": "code",
   "execution_count": 4,
   "id": "e736b549-496a-49df-86ab-fa0950d802b4",
   "metadata": {},
   "outputs": [
    {
     "data": {
      "text/html": [
       "\n",
       "            <div>\n",
       "              <style>\n",
       "                .tskit-table thead tr th {text-align: left;padding: 0.5em 0.5em;}\n",
       "                .tskit-table tbody tr td {padding: 0.5em 0.5em;}\n",
       "                .tskit-table tbody tr td:first-of-type {text-align: left;}\n",
       "                .tskit-details-label {vertical-align: top; padding-right:5px;}\n",
       "                .tskit-table-set {display: inline-flex;flex-wrap: wrap;margin: -12px 0 0 -12px;width: calc(100% + 12px);}\n",
       "                .tskit-table-set-table {margin: 12px 0 0 12px;}\n",
       "                details {display: inline-block;}\n",
       "                summary {cursor: pointer; outline: 0; display: list-item;}\n",
       "              </style>\n",
       "              <div class=\"tskit-table-set\">\n",
       "                <div class=\"tskit-table-set-table\">\n",
       "                  <table class=\"tskit-table\">\n",
       "                    <thead>\n",
       "                      <tr>\n",
       "                        <th style=\"padding:0;line-height:21px;\">\n",
       "                          <img style=\"height: 32px;display: inline-block;padding: 3px 5px 3px 0;\" src=\"https://raw.githubusercontent.com/tskit-dev/administrative/main/tskit_logo.svg\"/>\n",
       "                          <a target=\"_blank\" href=\"https://tskit.dev/tskit/docs/latest/python-api.html#the-treesequence-class\"> Tree Sequence </a>\n",
       "                        </th>\n",
       "                      </tr>\n",
       "                    </thead>\n",
       "                    <tbody>\n",
       "                      <tr><td>Trees</td><td>82</td></tr>\n",
       "                      <tr><td>Sequence Length</td><td>100.0</td></tr>\n",
       "                      <tr><td>Time Units</td><td>generations</td></tr>\n",
       "                      <tr><td>Sample Nodes</td><td>25</td></tr>\n",
       "                      <tr><td>Total Size</td><td>25.8 KiB</td></tr>\n",
       "                      <tr>\n",
       "                        <td>Metadata</td><td style=\"text-align: left;\">No Metadata</td></tr>\n",
       "                    </tbody>\n",
       "                  </table>\n",
       "                </div>\n",
       "                <div class=\"tskit-table-set-table\">\n",
       "                  <table class=\"tskit-table\">\n",
       "                    <thead>\n",
       "                      <tr>\n",
       "                        <th style=\"line-height:21px;\">Table</th>\n",
       "                        <th>Rows</th>\n",
       "                        <th>Size</th>\n",
       "                        <th>Has Metadata</th>\n",
       "                      </tr>\n",
       "                    </thead>\n",
       "                    <tbody>\n",
       "                    \n",
       "                  <tr>\n",
       "                    <td>Edges</td>\n",
       "                      <td>504</td>\n",
       "                      <td>15.8 KiB</td>\n",
       "                      <td style=\"text-align: center;\">\n",
       "                        \n",
       "                      </td>\n",
       "                    </tr>\n",
       "                \n",
       "                  <tr>\n",
       "                    <td>Individuals</td>\n",
       "                      <td>25</td>\n",
       "                      <td>724 Bytes</td>\n",
       "                      <td style=\"text-align: center;\">\n",
       "                        \n",
       "                      </td>\n",
       "                    </tr>\n",
       "                \n",
       "                  <tr>\n",
       "                    <td>Migrations</td>\n",
       "                      <td>0</td>\n",
       "                      <td>8 Bytes</td>\n",
       "                      <td style=\"text-align: center;\">\n",
       "                        \n",
       "                      </td>\n",
       "                    </tr>\n",
       "                \n",
       "                  <tr>\n",
       "                    <td>Mutations</td>\n",
       "                      <td>0</td>\n",
       "                      <td>16 Bytes</td>\n",
       "                      <td style=\"text-align: center;\">\n",
       "                        \n",
       "                      </td>\n",
       "                    </tr>\n",
       "                \n",
       "                  <tr>\n",
       "                    <td>Nodes</td>\n",
       "                      <td>150</td>\n",
       "                      <td>4.1 KiB</td>\n",
       "                      <td style=\"text-align: center;\">\n",
       "                        \n",
       "                      </td>\n",
       "                    </tr>\n",
       "                \n",
       "                  <tr>\n",
       "                    <td>Populations</td>\n",
       "                      <td>1</td>\n",
       "                      <td>224 Bytes</td>\n",
       "                      <td style=\"text-align: center;\">\n",
       "                        ✅\n",
       "                      </td>\n",
       "                    </tr>\n",
       "                \n",
       "                  <tr>\n",
       "                    <td>Provenances</td>\n",
       "                      <td>1</td>\n",
       "                      <td>1005 Bytes</td>\n",
       "                      <td style=\"text-align: center;\">\n",
       "                        \n",
       "                      </td>\n",
       "                    </tr>\n",
       "                \n",
       "                  <tr>\n",
       "                    <td>Sites</td>\n",
       "                      <td>0</td>\n",
       "                      <td>16 Bytes</td>\n",
       "                      <td style=\"text-align: center;\">\n",
       "                        \n",
       "                      </td>\n",
       "                    </tr>\n",
       "                \n",
       "                    </tbody>\n",
       "                  </table>\n",
       "                </div>\n",
       "              </div>\n",
       "            </div>\n",
       "            "
      ],
      "text/plain": [
       "<tskit.trees.TreeSequence at 0x76ec8efc3350>"
      ]
     },
     "execution_count": 4,
     "metadata": {},
     "output_type": "execute_result"
    }
   ],
   "source": [
    "ts"
   ]
  },
  {
   "cell_type": "markdown",
   "id": "36451bb4-a33b-4994-95c5-e5ef8827b830",
   "metadata": {},
   "source": [
    "A bit of code for benchmarking"
   ]
  },
  {
   "cell_type": "code",
   "execution_count": 5,
   "id": "52f0dfa6-cc70-4bf6-8e61-c78046db1f07",
   "metadata": {},
   "outputs": [],
   "source": [
    "import sys\n",
    "from pathlib import Path\n",
    "\n",
    "TS_PATH = str(Path(\"~/repo/tskit/python\").expanduser())\n",
    "if not TS_PATH in sys.path:\n",
    "    sys.path.insert(0, TS_PATH)\n",
    "\n",
    "from tests.test_ld_matrix import ld_matrix"
   ]
  },
  {
   "cell_type": "code",
   "execution_count": 6,
   "id": "37ba279e-3ba2-4131-9713-0c3e85e33949",
   "metadata": {},
   "outputs": [],
   "source": [
    "import io\n",
    "import sys\n",
    "\n",
    "\n",
    "def capture_stdout(func, *args, **kwargs):\n",
    "    \"\"\"\n",
    "    We go through this dance so that we can read print statements\n",
    "    directly from the code\n",
    "    \"\"\"\n",
    "    buf = io.BytesIO()\n",
    "    try:\n",
    "        orig = sys.stdout\n",
    "        sys.stdout = buf\n",
    "        stats = func(*args, **kwargs)\n",
    "    finally:\n",
    "        sys.stdout = orig\n",
    "    buf.seek(0)\n",
    "    return buf, stats\n",
    "\n",
    "\n",
    "def read(buf, has_header=False):\n",
    "    return pl.read_csv(\n",
    "        buf,\n",
    "        has_header=has_header,\n",
    "        separator=\"\\t\",\n",
    "        schema={\"op\": pl.String, \"tree\": pl.Int32, \"p\": pl.Int32, \"c\": pl.Int32},\n",
    "    )"
   ]
  },
  {
   "cell_type": "markdown",
   "id": "cf633c2c-3114-4a9b-b89d-0abb3e2fd218",
   "metadata": {},
   "source": [
    "First, let's benchmarking the old code. "
   ]
  },
  {
   "cell_type": "code",
   "execution_count": 7,
   "id": "cfd124a0-6435-4a4c-a49c-847a9b85ae95",
   "metadata": {},
   "outputs": [
    {
     "name": "stdout",
     "output_type": "stream",
     "text": [
      "CPU times: user 2min 31s, sys: 59.2 ms, total: 2min 31s\n",
      "Wall time: 2min 31s\n"
     ]
    }
   ],
   "source": [
    "%%time\n",
    "buf, ld = capture_stdout(ld_matrix, ts, mode=\"branch\")"
   ]
  },
  {
   "cell_type": "code",
   "execution_count": 81,
   "id": "5c2b6f5e-1ae5-447c-a169-5ab79af6ef88",
   "metadata": {},
   "outputs": [],
   "source": [
    "# old = read(buf)"
   ]
  },
  {
   "cell_type": "code",
   "execution_count": 13,
   "id": "cac4c871-bd91-4f87-bf61-a8b0178d1ec2",
   "metadata": {},
   "outputs": [],
   "source": [
    "old = read(\"old-algo-bench.tsv.xz\", has_header=True)"
   ]
  },
  {
   "cell_type": "code",
   "execution_count": 82,
   "id": "25a28f88-4743-4f97-8072-b03bf178b8b5",
   "metadata": {},
   "outputs": [
    {
     "data": {
      "text/html": [
       "<div><style>\n",
       ".dataframe > thead > tr,\n",
       ".dataframe > tbody > tr {\n",
       "  text-align: right;\n",
       "  white-space: pre-wrap;\n",
       "}\n",
       "</style>\n",
       "<small>shape: (6, 2)</small><table border=\"1\" class=\"dataframe\"><thead><tr><th>op</th><th>count</th></tr><tr><td>str</td><td>u32</td></tr></thead><tbody><tr><td>&quot;summary_func&quot;</td><td>7588608</td></tr><tr><td>&quot;add_samples_child&quot;</td><td>79680</td></tr><tr><td>&quot;add_samples&quot;</td><td>61918</td></tr><tr><td>&quot;add_stat&quot;</td><td>61918</td></tr><tr><td>&quot;subtract_stat&quot;</td><td>57934</td></tr><tr><td>&quot;subtract_samples&quot;</td><td>57934</td></tr></tbody></table></div>"
      ],
      "text/plain": [
       "shape: (6, 2)\n",
       "┌───────────────────┬─────────┐\n",
       "│ op                ┆ count   │\n",
       "│ ---               ┆ ---     │\n",
       "│ str               ┆ u32     │\n",
       "╞═══════════════════╪═════════╡\n",
       "│ summary_func      ┆ 7588608 │\n",
       "│ add_samples_child ┆ 79680   │\n",
       "│ add_samples       ┆ 61918   │\n",
       "│ add_stat          ┆ 61918   │\n",
       "│ subtract_stat     ┆ 57934   │\n",
       "│ subtract_samples  ┆ 57934   │\n",
       "└───────────────────┴─────────┘"
      ]
     },
     "execution_count": 82,
     "metadata": {},
     "output_type": "execute_result"
    }
   ],
   "source": [
    "old['op'].value_counts(sort=True)"
   ]
  },
  {
   "cell_type": "markdown",
   "id": "cbb15c2b-1a21-4661-ae38-16ff387902af",
   "metadata": {},
   "source": [
    "A breakdown of the operations\n",
    "* `add_samples_child` storing child samples below the added node to subtract as we climb the tree to propagate changes upward.\n",
    "* `add_samples` performing a union operation on `child_samples` and the samples contained under a node\n",
    "* `add_stat` calling the summary function and adding to the running total for samples under a node\n",
    "* `subtract_stat` calling the summary function and removing from the running total for samples under a node\n",
    "* `subtract_samples` performing a set subtraction, removing `child_samples` from samples contained under a node"
   ]
  },
  {
   "cell_type": "markdown",
   "id": "1a65ca94-3e65-4e27-9793-1746bdfeb78b",
   "metadata": {},
   "source": [
    "Next, let's benchmark the new code. "
   ]
  },
  {
   "cell_type": "code",
   "execution_count": 7,
   "id": "849359ce-8c26-4284-8a97-25fbe29e7a2d",
   "metadata": {},
   "outputs": [
    {
     "name": "stdout",
     "output_type": "stream",
     "text": [
      "CPU times: user 1min 40s, sys: 0 ns, total: 1min 40s\n",
      "Wall time: 1min 40s\n"
     ]
    }
   ],
   "source": [
    "%%time\n",
    "buf, ld = capture_stdout(ld_matrix, ts, mode=\"branch\")"
   ]
  },
  {
   "cell_type": "code",
   "execution_count": 8,
   "id": "dc248871-1a2a-4ad3-9c5d-684ef7d880f6",
   "metadata": {},
   "outputs": [],
   "source": [
    "new = read_buf(buf)"
   ]
  },
  {
   "cell_type": "code",
   "execution_count": 9,
   "id": "a0583942-caf8-42a9-8ff9-e586cec740fc",
   "metadata": {},
   "outputs": [],
   "source": [
    "new.write_csv(\"new-algo-bench.tsv.xz\", separator=\"\\t\")"
   ]
  },
  {
   "cell_type": "code",
   "execution_count": 17,
   "id": "8273d340-97b7-4721-924b-217f3c77fee0",
   "metadata": {},
   "outputs": [
    {
     "data": {
      "text/html": [
       "<div><style>\n",
       ".dataframe > thead > tr,\n",
       ".dataframe > tbody > tr {\n",
       "  text-align: right;\n",
       "  white-space: pre-wrap;\n",
       "}\n",
       "</style>\n",
       "<small>shape: (5, 2)</small><table border=\"1\" class=\"dataframe\"><thead><tr><th>op</th><th>count</th></tr><tr><td>str</td><td>u32</td></tr></thead><tbody><tr><td>&quot;summary_func&quot;</td><td>5203392</td></tr><tr><td>&quot;subtract_stat&quot;</td><td>66566</td></tr><tr><td>&quot;add_stat&quot;</td><td>66566</td></tr><tr><td>&quot;add_samples&quot;</td><td>61918</td></tr><tr><td>&quot;subtract_samples&quot;</td><td>57934</td></tr></tbody></table></div>"
      ],
      "text/plain": [
       "shape: (5, 2)\n",
       "┌──────────────────┬─────────┐\n",
       "│ op               ┆ count   │\n",
       "│ ---              ┆ ---     │\n",
       "│ str              ┆ u32     │\n",
       "╞══════════════════╪═════════╡\n",
       "│ summary_func     ┆ 5203392 │\n",
       "│ subtract_stat    ┆ 66566   │\n",
       "│ add_stat         ┆ 66566   │\n",
       "│ add_samples      ┆ 61918   │\n",
       "│ subtract_samples ┆ 57934   │\n",
       "└──────────────────┴─────────┘"
      ]
     },
     "execution_count": 17,
     "metadata": {},
     "output_type": "execute_result"
    }
   ],
   "source": [
    "new['op'].value_counts(sort=True)"
   ]
  },
  {
   "cell_type": "markdown",
   "id": "4515446a-c9ff-405a-a1ed-b23af5e3d994",
   "metadata": {},
   "source": [
    "The operation definitions are the same for the new algorithm, but we don't have to track child samples anymore"
   ]
  },
  {
   "cell_type": "code",
   "execution_count": 18,
   "id": "07a2a265-e2a7-453b-bf40-2f92a081a5d5",
   "metadata": {},
   "outputs": [
    {
     "data": {
      "text/html": [
       "<div><style>\n",
       ".dataframe > thead > tr,\n",
       ".dataframe > tbody > tr {\n",
       "  text-align: right;\n",
       "  white-space: pre-wrap;\n",
       "}\n",
       "</style>\n",
       "<small>shape: (6, 2)</small><table border=\"1\" class=\"dataframe\"><thead><tr><th>op</th><th>count</th></tr><tr><td>str</td><td>u32</td></tr></thead><tbody><tr><td>&quot;summary_func&quot;</td><td>7588608</td></tr><tr><td>&quot;add_samples_child&quot;</td><td>79680</td></tr><tr><td>&quot;add_samples&quot;</td><td>61918</td></tr><tr><td>&quot;add_stat&quot;</td><td>61918</td></tr><tr><td>&quot;subtract_stat&quot;</td><td>57934</td></tr><tr><td>&quot;subtract_samples&quot;</td><td>57934</td></tr></tbody></table></div>"
      ],
      "text/plain": [
       "shape: (6, 2)\n",
       "┌───────────────────┬─────────┐\n",
       "│ op                ┆ count   │\n",
       "│ ---               ┆ ---     │\n",
       "│ str               ┆ u32     │\n",
       "╞═══════════════════╪═════════╡\n",
       "│ summary_func      ┆ 7588608 │\n",
       "│ add_samples_child ┆ 79680   │\n",
       "│ add_samples       ┆ 61918   │\n",
       "│ add_stat          ┆ 61918   │\n",
       "│ subtract_stat     ┆ 57934   │\n",
       "│ subtract_samples  ┆ 57934   │\n",
       "└───────────────────┴─────────┘"
      ]
     },
     "execution_count": 18,
     "metadata": {},
     "output_type": "execute_result"
    }
   ],
   "source": [
    "old['op'].value_counts(sort=True)"
   ]
  },
  {
   "cell_type": "code",
   "execution_count": 11,
   "id": "6f5cb664-871d-4774-9ba3-67a96cbb7ef1",
   "metadata": {},
   "outputs": [
    {
     "data": {
      "text/plain": [
       "0.31431535269709543"
      ]
     },
     "execution_count": 11,
     "metadata": {},
     "output_type": "execute_result"
    }
   ],
   "source": [
    "(7588608 - 5203392) / 7588608"
   ]
  },
  {
   "cell_type": "markdown",
   "id": "ee244fc7-9bb0-4120-8f67-1726914804a9",
   "metadata": {},
   "source": [
    "Overall, we see around a 30% reduction in the number of summary function calls, and we natively rid ourselves of the NaN issue."
   ]
  },
  {
   "cell_type": "code",
   "execution_count": 79,
   "id": "c893db59-dbc4-4736-9890-1b19e3b153e5",
   "metadata": {},
   "outputs": [],
   "source": [
    "import numpy as np\n",
    "\n",
    "def count_tree_updates(ts):\n",
    "    \"\"\"store counts of 'parent ops' and 'root ops' \"\"\"\n",
    "    ops = {t: [0, 0] for t in range(ts.num_trees)}\n",
    "    parents = -np.ones(ts.num_nodes, dtype=np.int32)\n",
    "    for t, (_, i, o) in enumerate(ts.edge_diffs()):\n",
    "        for e in o:\n",
    "            p = e.parent\n",
    "            c = e.child\n",
    "            in_parent = False\n",
    "            while p != -1:\n",
    "                if in_parent:\n",
    "                    ops[t][0] += 1\n",
    "                else:\n",
    "                    ops[t][1] += 1\n",
    "                p = parents[p]\n",
    "                in_parent = True\n",
    "            parents[c] = -1\n",
    "        for e in i:\n",
    "            p = e.parent\n",
    "            c = e.child\n",
    "            parents[c] = p\n",
    "            in_parent = False\n",
    "            while p != -1:\n",
    "                if in_parent:\n",
    "                    ops[t][0] += 1\n",
    "                else:\n",
    "                    ops[t][1] += 1\n",
    "                p = parents[p]\n",
    "                in_parent = True\n",
    "    return ops"
   ]
  },
  {
   "cell_type": "code",
   "execution_count": 65,
   "id": "66606860-4963-4bb9-bbf5-14805c67d642",
   "metadata": {},
   "outputs": [],
   "source": [
    "counts = count_tree_updates(ts)\n",
    "counts = np.array([counts[t] for t in range(ts.num_trees)])"
   ]
  },
  {
   "cell_type": "markdown",
   "id": "ec7316a0-eeb4-4490-879a-786e7a6b85a5",
   "metadata": {},
   "source": [
    "This is what I estimate the theretical lower bound of summary function calls to be, we're getting closer with this new algorithm"
   ]
  },
  {
   "cell_type": "code",
   "execution_count": 104,
   "id": "201f30be-89f7-46a0-acde-f04c3b5d3c3c",
   "metadata": {},
   "outputs": [
    {
     "data": {
      "text/plain": [
       "4050448"
      ]
     },
     "execution_count": 104,
     "metadata": {},
     "output_type": "execute_result"
    }
   ],
   "source": [
    "theoret_summary_func = counts.sum() ** 2 + counts[0].sum() ** 2\n",
    "theoret_summary_func"
   ]
  },
  {
   "cell_type": "code",
   "execution_count": 106,
   "id": "87095f55-8362-4056-868d-23ab2f9a714d",
   "metadata": {},
   "outputs": [
    {
     "data": {
      "text/plain": [
       "5456376"
      ]
     },
     "execution_count": 106,
     "metadata": {},
     "output_type": "execute_result"
    }
   ],
   "source": [
    "new_summary_func = len(new.select(pl.col('op') == 'summary_func'))\n",
    "new_summary_func"
   ]
  },
  {
   "cell_type": "code",
   "execution_count": 107,
   "id": "f5ac4ff3-3d67-41eb-aff2-25fedd10dbfa",
   "metadata": {},
   "outputs": [
    {
     "data": {
      "text/plain": [
       "1405928"
      ]
     },
     "execution_count": 107,
     "metadata": {},
     "output_type": "execute_result"
    }
   ],
   "source": [
    "new_summary_func - theoret_summary_func"
   ]
  }
 ],
 "metadata": {
  "kernelspec": {
   "display_name": "tskit-ld-1",
   "language": "python",
   "name": "tskit-ld-1"
  },
  "language_info": {
   "codemirror_mode": {
    "name": "ipython",
    "version": 3
   },
   "file_extension": ".py",
   "mimetype": "text/x-python",
   "name": "python",
   "nbconvert_exporter": "python",
   "pygments_lexer": "ipython3",
   "version": "3.12.6"
  }
 },
 "nbformat": 4,
 "nbformat_minor": 5
}
