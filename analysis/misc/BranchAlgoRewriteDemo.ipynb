{
 "cells": [
  {
   "cell_type": "markdown",
   "id": "7a393d6b-5061-40a6-8685-808fa6f67243",
   "metadata": {},
   "source": [
    "# Branch Algo Updates Demo\n",
    "\n",
    "To set this up, set the `TSKIT_REPO` variable to point to where you want the repo cloned. From there, everything should \"just work\""
   ]
  },
  {
   "cell_type": "code",
   "execution_count": 1,
   "id": "76590639-f7e2-40a4-a8fa-051887dda3ba",
   "metadata": {},
   "outputs": [],
   "source": [
    "from pathlib import Path\n",
    "\n",
    "TSKIT_REPO = Path(\"~/test_ts\").expanduser()"
   ]
  },
  {
   "cell_type": "markdown",
   "id": "0b10a8f6-eded-4bda-ab3c-783ecbb36c46",
   "metadata": {},
   "source": [
    "This step will leave you with a repo that's editable so you can edit and restart the NB for tinkering"
   ]
  },
  {
   "cell_type": "code",
   "execution_count": 2,
   "id": "fcdcf441-7658-47b1-bb9b-97c4aceca058",
   "metadata": {},
   "outputs": [
    {
     "name": "stdout",
     "output_type": "stream",
     "text": [
      "/home/lkirk/test_ts already set up\n"
     ]
    }
   ],
   "source": [
    "%%bash -s \"$TSKIT_REPO\"\n",
    "REPO_PATH=\"$1\"\n",
    "[ -d \"$REPO_PATH\" ] && echo \"$REPO_PATH already set up\" && exit 0\n",
    "git clone -b branch-stat-algo-rewrite git@github.com:lkirk/tskit.git \"$REPO_PATH\"\n",
    "python -m venv \"$REPO_PATH/python/ve\"\n",
    "source \"$REPO_PATH/python/ve/bin/activate\"\n",
    "pip install -r \"$REPO_PATH/python/requirements/development.txt\"\n",
    "(cd \"$REPO_PATH/python\" && make)\n",
    "pip install -e \"$REPO_PATH/python\""
   ]
  },
  {
   "cell_type": "code",
   "execution_count": 3,
   "id": "39ecccfa-66e4-4f2f-a252-4e02ab4d705a",
   "metadata": {},
   "outputs": [],
   "source": [
    "import sys\n",
    "\n",
    "PY_VERSION = f\"{sys.version_info.major}.{sys.version_info.minor}\"\n",
    "TSKIT_VE = str(TSKIT_REPO / f\"python/ve/lib/python{PY_VERSION}/site-packages\")\n",
    "TSKIT_PY = str(TSKIT_REPO / \"python\")\n",
    "\n",
    "for p in [TSKIT_VE, TSKIT_PY]:\n",
    "    if not sys.path[0] == p:\n",
    "        sys.path.insert(0, p)\n",
    "\n",
    "import io\n",
    "\n",
    "import msprime\n",
    "import numpy as np\n",
    "import tskit\n",
    "from tests.test_ld_matrix import ld_matrix"
   ]
  },
  {
   "cell_type": "markdown",
   "id": "6282500b-6f44-447f-9af3-d29238861550",
   "metadata": {},
   "source": [
    "# Tests\n",
    "\n",
    "Both of these cases hit NaNs in the ratio stats (notably $r^2$)"
   ]
  },
  {
   "cell_type": "markdown",
   "id": "aef3135f-a2b2-4d28-bb6f-995fc332956c",
   "metadata": {},
   "source": [
    "## Simple\n",
    "This is our simple, hand-drawn example"
   ]
  },
  {
   "cell_type": "code",
   "execution_count": 4,
   "id": "bbb04cfd-c774-4c6c-98ad-b10a5f0bfcaa",
   "metadata": {},
   "outputs": [
    {
     "data": {
      "image/svg+xml": [
       "<svg baseProfile=\"full\" height=\"200\" version=\"1.1\" width=\"400\" xmlns=\"http://www.w3.org/2000/svg\" xmlns:ev=\"http://www.w3.org/2001/xml-events\" xmlns:xlink=\"http://www.w3.org/1999/xlink\"><defs><style type=\"text/css\"><![CDATA[.background path {fill: #808080; fill-opacity: 0}.background path:nth-child(odd) {fill-opacity: .1}.axes {font-size: 14px}.x-axis .tick .lab {font-weight: bold; dominant-baseline: hanging}.axes, .tree {font-size: 14px; text-anchor: middle}.axes line, .edge {stroke: black; fill: none}.axes .ax-skip {stroke-dasharray: 4}.y-axis .grid {stroke: #FAFAFA}.node > .sym {fill: black; stroke: none}.site > .sym {stroke: black}.mut text {fill: red; font-style: italic}.mut.extra text {fill: hotpink}.mut line {fill: none; stroke: none}.mut .sym {fill: none; stroke: red}.mut.extra .sym {stroke: hotpink}.node .mut .sym {stroke-width: 1.5px}.tree text, .tree-sequence text {dominant-baseline: central}.plotbox .lab.lft {text-anchor: end}.plotbox .lab.rgt {text-anchor: start}]]></style></defs><g class=\"tree-sequence\"><g class=\"background\"><path d=\"M20,0 l180,0 l0,138.2 l0,25 l0,5 l-180,0 l0,-5 l0,-25 l0,-138.2z\" /><path d=\"M200,0 l180,0 l0,138.2 l0,25 l0,5 l-180,0 l0,-5 l0,-25 l0,-138.2z\" /></g><g class=\"axes\"><g class=\"x-axis\"><g class=\"title\" transform=\"translate(200 200)\"><text class=\"lab\" text-anchor=\"middle\" transform=\"translate(0 -11)\">Genome position</text></g><line class=\"ax-line\" x1=\"20\" x2=\"380\" y1=\"163.2\" y2=\"163.2\" /><g class=\"ticks\"><g class=\"tick\" transform=\"translate(20 163.2)\"><line x1=\"0\" x2=\"0\" y1=\"0\" y2=\"5\" /><g transform=\"translate(0 6)\"><text class=\"lab\">0</text></g></g><g class=\"tick\" transform=\"translate(200 163.2)\"><line x1=\"0\" x2=\"0\" y1=\"0\" y2=\"5\" /><g transform=\"translate(0 6)\"><text class=\"lab\">1</text></g></g><g class=\"tick\" transform=\"translate(380 163.2)\"><line x1=\"0\" x2=\"0\" y1=\"0\" y2=\"5\" /><g transform=\"translate(0 6)\"><text class=\"lab\">2</text></g></g></g></g></g><g class=\"plotbox trees\"><g class=\"tree t0\" transform=\"translate(20 0)\"><g class=\"plotbox\"><g class=\"c2 node n9 root\" transform=\"translate(119.75 26.8)\"><g class=\"a9 leaf node n4 sample\" transform=\"translate(26.25 94.6)\"><path class=\"edge\" d=\"M 0 0 V -94.6 H -26.25\" /><rect class=\"sym\" height=\"6\" width=\"6\" x=\"-3\" y=\"-3\" /><text class=\"lab\" transform=\"translate(0 11)\">4</text></g><g class=\"a9 c2 node n8\" transform=\"translate(-26.25 13.5143)\"><g class=\"a8 leaf node n3 sample\" transform=\"translate(24.5 81.0857)\"><path class=\"edge\" d=\"M 0 0 V -81.0857 H -24.5\" /><rect class=\"sym\" height=\"6\" width=\"6\" x=\"-3\" y=\"-3\" /><text class=\"lab\" transform=\"translate(0 11)\">3</text></g><g class=\"a8 c2 node n7\" transform=\"translate(-24.5 27.0286)\"><g class=\"a7 leaf node n2 sample\" transform=\"translate(21 54.0571)\"><path class=\"edge\" d=\"M 0 0 V -54.0571 H -21\" /><rect class=\"sym\" height=\"6\" width=\"6\" x=\"-3\" y=\"-3\" /><text class=\"lab\" transform=\"translate(0 11)\">2</text></g><g class=\"a7 c2 node n6\" transform=\"translate(-21 27.0286)\"><g class=\"a6 leaf node n0 sample\" transform=\"translate(-14 27.0286)\"><path class=\"edge\" d=\"M 0 0 V -27.0286 H 14\" /><rect class=\"sym\" height=\"6\" width=\"6\" x=\"-3\" y=\"-3\" /><text class=\"lab\" transform=\"translate(0 11)\">0</text></g><g class=\"a6 leaf node n1 sample\" transform=\"translate(14 27.0286)\"><path class=\"edge\" d=\"M 0 0 V -27.0286 H -14\" /><rect class=\"sym\" height=\"6\" width=\"6\" x=\"-3\" y=\"-3\" /><text class=\"lab\" transform=\"translate(0 11)\">1</text></g><path class=\"edge\" d=\"M 0 0 V -27.0286 H 21\" /><circle class=\"sym\" cx=\"0\" cy=\"0\" r=\"3\" /><text class=\"lab lft\" transform=\"translate(-3 -7.0)\">6</text></g><path class=\"edge\" d=\"M 0 0 V -27.0286 H 24.5\" /><circle class=\"sym\" cx=\"0\" cy=\"0\" r=\"3\" /><text class=\"lab lft\" transform=\"translate(-3 -7.0)\">7</text></g><path class=\"edge\" d=\"M 0 0 V -13.5143 H 26.25\" /><circle class=\"sym\" cx=\"0\" cy=\"0\" r=\"3\" /><text class=\"lab lft\" transform=\"translate(-3 -7.0)\">8</text></g><circle class=\"sym\" cx=\"0\" cy=\"0\" r=\"3\" /><text class=\"lab\" transform=\"translate(0 -11)\">9</text></g></g></g><g class=\"tree t1\" transform=\"translate(200 0)\"><g class=\"plotbox\"><g class=\"c2 node n9 root\" transform=\"translate(111 26.8)\"><g class=\"a9 leaf node n4 sample\" transform=\"translate(35 94.6)\"><path class=\"edge\" d=\"M 0 0 V -94.6 H -35\" /><rect class=\"sym\" height=\"6\" width=\"6\" x=\"-3\" y=\"-3\" /><text class=\"lab\" transform=\"translate(0 11)\">4</text></g><g class=\"a9 c2 node n8\" transform=\"translate(-35 13.5143)\"><g class=\"a8 c2 node n5\" transform=\"translate(28 63.0667)\"><g class=\"a5 leaf node n2 sample\" transform=\"translate(-14 18.019)\"><path class=\"edge\" d=\"M 0 0 V -18.019 H 14\" /><rect class=\"sym\" height=\"6\" width=\"6\" x=\"-3\" y=\"-3\" /><text class=\"lab\" transform=\"translate(0 11)\">2</text></g><g class=\"a5 leaf node n3 sample\" transform=\"translate(14 18.019)\"><path class=\"edge\" d=\"M 0 0 V -18.019 H -14\" /><rect class=\"sym\" height=\"6\" width=\"6\" x=\"-3\" y=\"-3\" /><text class=\"lab\" transform=\"translate(0 11)\">3</text></g><path class=\"edge\" d=\"M 0 0 V -63.0667 H -28\" /><circle class=\"sym\" cx=\"0\" cy=\"0\" r=\"3\" /><text class=\"lab rgt\" transform=\"translate(3 -7.0)\">5</text></g><g class=\"a8 c2 node n6\" transform=\"translate(-28 54.0571)\"><g class=\"a6 leaf node n0 sample\" transform=\"translate(-14 27.0286)\"><path class=\"edge\" d=\"M 0 0 V -27.0286 H 14\" /><rect class=\"sym\" height=\"6\" width=\"6\" x=\"-3\" y=\"-3\" /><text class=\"lab\" transform=\"translate(0 11)\">0</text></g><g class=\"a6 leaf node n1 sample\" transform=\"translate(14 27.0286)\"><path class=\"edge\" d=\"M 0 0 V -27.0286 H -14\" /><rect class=\"sym\" height=\"6\" width=\"6\" x=\"-3\" y=\"-3\" /><text class=\"lab\" transform=\"translate(0 11)\">1</text></g><path class=\"edge\" d=\"M 0 0 V -54.0571 H 28\" /><circle class=\"sym\" cx=\"0\" cy=\"0\" r=\"3\" /><text class=\"lab lft\" transform=\"translate(-3 -7.0)\">6</text></g><path class=\"edge\" d=\"M 0 0 V -13.5143 H 35\" /><circle class=\"sym\" cx=\"0\" cy=\"0\" r=\"3\" /><text class=\"lab lft\" transform=\"translate(-3 -7.0)\">8</text></g><circle class=\"sym\" cx=\"0\" cy=\"0\" r=\"3\" /><text class=\"lab\" transform=\"translate(0 -11)\">9</text></g></g></g></g></g></svg>"
      ],
      "text/plain": [
       "'<svg baseProfile=\"full\" height=\"200\" version=\"1.1\" width=\"400\" xmlns=\"http://www.w3.org/2000/svg\" xmlns:ev=\"http://www.w3.org/2001/xml-events\" xmlns:xlink=\"http://www.w3.org/1999/xlink\"><defs><style type=\"text/css\"><![CDATA[.background path {fill: #808080; fill-opacity: 0}.background path:nth-child(odd) {fill-opacity: .1}.axes {font-size: 14px}.x-axis .tick .lab {font-weight: bold; dominant-baseline: hanging}.axes, .tree {font-size: 14px; text-anchor: middle}.axes line, .edge {stroke: black; fill: none}.axes .ax-skip {stroke-dasharray: 4}.y-axis .grid {stroke: #FAFAFA}.node > .sym {fill: black; stroke: none}.site > .sym {stroke: black}.mut text {fill: red; font-style: italic}.mut.extra text {fill: hotpink}.mut line {fill: none; stroke: none}.mut .sym {fill: none; stroke: red}.mut.extra .sym {stroke: hotpink}.node .mut .sym {stroke-width: 1.5px}.tree text, .tree-sequence text {dominant-baseline: central}.plotbox .lab.lft {text-anchor: end}.plotbox .lab.rgt {text-anchor: start}]]></style></defs><g class=\"tree-sequence\"><g class=\"background\"><path d=\"M20,0 l180,0 l0,138.2 l0,25 l0,5 l-180,0 l0,-5 l0,-25 l0,-138.2z\" /><path d=\"M200,0 l180,0 l0,138.2 l0,25 l0,5 l-180,0 l0,-5 l0,-25 l0,-138.2z\" /></g><g class=\"axes\"><g class=\"x-axis\"><g class=\"title\" transform=\"translate(200 200)\"><text class=\"lab\" text-anchor=\"middle\" transform=\"translate(0 -11)\">Genome position</text></g><line class=\"ax-line\" x1=\"20\" x2=\"380\" y1=\"163.2\" y2=\"163.2\" /><g class=\"ticks\"><g class=\"tick\" transform=\"translate(20 163.2)\"><line x1=\"0\" x2=\"0\" y1=\"0\" y2=\"5\" /><g transform=\"translate(0 6)\"><text class=\"lab\">0</text></g></g><g class=\"tick\" transform=\"translate(200 163.2)\"><line x1=\"0\" x2=\"0\" y1=\"0\" y2=\"5\" /><g transform=\"translate(0 6)\"><text class=\"lab\">1</text></g></g><g class=\"tick\" transform=\"translate(380 163.2)\"><line x1=\"0\" x2=\"0\" y1=\"0\" y2=\"5\" /><g transform=\"translate(0 6)\"><text class=\"lab\">2</text></g></g></g></g></g><g class=\"plotbox trees\"><g class=\"tree t0\" transform=\"translate(20 0)\"><g class=\"plotbox\"><g class=\"c2 node n9 root\" transform=\"translate(119.75 26.8)\"><g class=\"a9 leaf node n4 sample\" transform=\"translate(26.25 94.6)\"><path class=\"edge\" d=\"M 0 0 V -94.6 H -26.25\" /><rect class=\"sym\" height=\"6\" width=\"6\" x=\"-3\" y=\"-3\" /><text class=\"lab\" transform=\"translate(0 11)\">4</text></g><g class=\"a9 c2 node n8\" transform=\"translate(-26.25 13.5143)\"><g class=\"a8 leaf node n3 sample\" transform=\"translate(24.5 81.0857)\"><path class=\"edge\" d=\"M 0 0 V -81.0857 H -24.5\" /><rect class=\"sym\" height=\"6\" width=\"6\" x=\"-3\" y=\"-3\" /><text class=\"lab\" transform=\"translate(0 11)\">3</text></g><g class=\"a8 c2 node n7\" transform=\"translate(-24.5 27.0286)\"><g class=\"a7 leaf node n2 sample\" transform=\"translate(21 54.0571)\"><path class=\"edge\" d=\"M 0 0 V -54.0571 H -21\" /><rect class=\"sym\" height=\"6\" width=\"6\" x=\"-3\" y=\"-3\" /><text class=\"lab\" transform=\"translate(0 11)\">2</text></g><g class=\"a7 c2 node n6\" transform=\"translate(-21 27.0286)\"><g class=\"a6 leaf node n0 sample\" transform=\"translate(-14 27.0286)\"><path class=\"edge\" d=\"M 0 0 V -27.0286 H 14\" /><rect class=\"sym\" height=\"6\" width=\"6\" x=\"-3\" y=\"-3\" /><text class=\"lab\" transform=\"translate(0 11)\">0</text></g><g class=\"a6 leaf node n1 sample\" transform=\"translate(14 27.0286)\"><path class=\"edge\" d=\"M 0 0 V -27.0286 H -14\" /><rect class=\"sym\" height=\"6\" width=\"6\" x=\"-3\" y=\"-3\" /><text class=\"lab\" transform=\"translate(0 11)\">1</text></g><path class=\"edge\" d=\"M 0 0 V -27.0286 H 21\" /><circle class=\"sym\" cx=\"0\" cy=\"0\" r=\"3\" /><text class=\"lab lft\" transform=\"translate(-3 -7.0)\">6</text></g><path class=\"edge\" d=\"M 0 0 V -27.0286 H 24.5\" /><circle class=\"sym\" cx=\"0\" cy=\"0\" r=\"3\" /><text class=\"lab lft\" transform=\"translate(-3 -7.0)\">7</text></g><path class=\"edge\" d=\"M 0 0 V -13.5143 H 26.25\" /><circle class=\"sym\" cx=\"0\" cy=\"0\" r=\"3\" /><text class=\"lab lft\" transform=\"translate(-3 -7.0)\">8</text></g><circle class=\"sym\" cx=\"0\" cy=\"0\" r=\"3\" /><text class=\"lab\" transform=\"translate(0 -11)\">9</text></g></g></g><g class=\"tree t1\" transform=\"translate(200 0)\"><g class=\"plotbox\"><g class=\"c2 node n9 root\" transform=\"translate(111 26.8)\"><g class=\"a9 leaf node n4 sample\" transform=\"translate(35 94.6)\"><path class=\"edge\" d=\"M 0 0 V -94.6 H -35\" /><rect class=\"sym\" height=\"6\" width=\"6\" x=\"-3\" y=\"-3\" /><text class=\"lab\" transform=\"translate(0 11)\">4</text></g><g class=\"a9 c2 node n8\" transform=\"translate(-35 13.5143)\"><g class=\"a8 c2 node n5\" transform=\"translate(28 63.0667)\"><g class=\"a5 leaf node n2 sample\" transform=\"translate(-14 18.019)\"><path class=\"edge\" d=\"M 0 0 V -18.019 H 14\" /><rect class=\"sym\" height=\"6\" width=\"6\" x=\"-3\" y=\"-3\" /><text class=\"lab\" transform=\"translate(0 11)\">2</text></g><g class=\"a5 leaf node n3 sample\" transform=\"translate(14 18.019)\"><path class=\"edge\" d=\"M 0 0 V -18.019 H -14\" /><rect class=\"sym\" height=\"6\" width=\"6\" x=\"-3\" y=\"-3\" /><text class=\"lab\" transform=\"translate(0 11)\">3</text></g><path class=\"edge\" d=\"M 0 0 V -63.0667 H -28\" /><circle class=\"sym\" cx=\"0\" cy=\"0\" r=\"3\" /><text class=\"lab rgt\" transform=\"translate(3 -7.0)\">5</text></g><g class=\"a8 c2 node n6\" transform=\"translate(-28 54.0571)\"><g class=\"a6 leaf node n0 sample\" transform=\"translate(-14 27.0286)\"><path class=\"edge\" d=\"M 0 0 V -27.0286 H 14\" /><rect class=\"sym\" height=\"6\" width=\"6\" x=\"-3\" y=\"-3\" /><text class=\"lab\" transform=\"translate(0 11)\">0</text></g><g class=\"a6 leaf node n1 sample\" transform=\"translate(14 27.0286)\"><path class=\"edge\" d=\"M 0 0 V -27.0286 H -14\" /><rect class=\"sym\" height=\"6\" width=\"6\" x=\"-3\" y=\"-3\" /><text class=\"lab\" transform=\"translate(0 11)\">1</text></g><path class=\"edge\" d=\"M 0 0 V -54.0571 H 28\" /><circle class=\"sym\" cx=\"0\" cy=\"0\" r=\"3\" /><text class=\"lab lft\" transform=\"translate(-3 -7.0)\">6</text></g><path class=\"edge\" d=\"M 0 0 V -13.5143 H 35\" /><circle class=\"sym\" cx=\"0\" cy=\"0\" r=\"3\" /><text class=\"lab lft\" transform=\"translate(-3 -7.0)\">8</text></g><circle class=\"sym\" cx=\"0\" cy=\"0\" r=\"3\" /><text class=\"lab\" transform=\"translate(0 -11)\">9</text></g></g></g></g></g></svg>'"
      ]
     },
     "execution_count": 4,
     "metadata": {},
     "output_type": "execute_result"
    }
   ],
   "source": [
    "ts = tskit.load_text(\n",
    "    nodes=io.StringIO(\n",
    "        \"\"\"\\\n",
    "is_sample time\n",
    "1         0\n",
    "1         0\n",
    "1         0\n",
    "1         0\n",
    "1         0\n",
    "0         4\n",
    "0         6\n",
    "0         12\n",
    "0         18\n",
    "0         21\n",
    "\"\"\"\n",
    "    ),\n",
    "    edges=io.StringIO(\n",
    "        \"\"\"\\\n",
    "left right parent child\n",
    "0    2     6      0,1\n",
    "0    1     7      2,6\n",
    "0    1     8      3,7\n",
    "0    2     9      4,8\n",
    "1    2     5      2,3\n",
    "1    2     8      5,6\n",
    "\"\"\"\n",
    "    ),\n",
    "    strict=False,\n",
    ")\n",
    "\n",
    "ts.draw_svg()"
   ]
  },
  {
   "cell_type": "markdown",
   "id": "dc230fee-06d8-4d26-b24c-3c40ad5c5024",
   "metadata": {},
   "source": [
    "### $\\pi_2$"
   ]
  },
  {
   "cell_type": "code",
   "execution_count": 5,
   "id": "d5dbe0e0-6cb0-4b52-8aba-9c46b18a26d3",
   "metadata": {
    "scrolled": true
   },
   "outputs": [],
   "source": [
    "c = ts.ld_matrix(stat=\"pi2\", mode=\"branch\")"
   ]
  },
  {
   "cell_type": "code",
   "execution_count": 6,
   "id": "42d7be23-e6ab-4141-88a1-709fdb94ee29",
   "metadata": {},
   "outputs": [],
   "source": [
    "py = ld_matrix(ts, stat=\"pi2\", mode=\"branch\")"
   ]
  },
  {
   "cell_type": "code",
   "execution_count": 7,
   "id": "96ad9ef0-29cd-49d5-93df-1f87328244b0",
   "metadata": {},
   "outputs": [
    {
     "data": {
      "text/plain": [
       "array([[180.6336, 178.4832],\n",
       "       [178.4832, 176.3584]])"
      ]
     },
     "execution_count": 7,
     "metadata": {},
     "output_type": "execute_result"
    }
   ],
   "source": [
    "py"
   ]
  },
  {
   "cell_type": "code",
   "execution_count": 8,
   "id": "38e5b4bb-332b-4131-8b4e-0e977d0f8116",
   "metadata": {},
   "outputs": [
    {
     "data": {
      "text/plain": [
       "array([[180.6336, 178.4832],\n",
       "       [178.4832, 176.3584]])"
      ]
     },
     "execution_count": 8,
     "metadata": {},
     "output_type": "execute_result"
    }
   ],
   "source": [
    "c"
   ]
  },
  {
   "cell_type": "code",
   "execution_count": 9,
   "id": "5253f92e-6c13-4787-96b7-55d335dc3b5e",
   "metadata": {},
   "outputs": [
    {
     "data": {
      "text/plain": [
       "(True, 8.526512829121202e-14, -1.7053025658242404e-13)"
      ]
     },
     "execution_count": 9,
     "metadata": {},
     "output_type": "execute_result"
    }
   ],
   "source": [
    "np.isclose(c, py).all(), (c - py).max(), (c - py).min()"
   ]
  },
  {
   "cell_type": "markdown",
   "id": "9dd6530b-1bae-44b7-98b9-ddc0f31273c4",
   "metadata": {},
   "source": [
    "### $r^2$"
   ]
  },
  {
   "cell_type": "code",
   "execution_count": 10,
   "id": "1c85ddde-304b-430a-9ac2-2d76f0293f29",
   "metadata": {
    "scrolled": true
   },
   "outputs": [],
   "source": [
    "c = ts.ld_matrix(mode=\"branch\", stat=\"r2\")"
   ]
  },
  {
   "cell_type": "code",
   "execution_count": 11,
   "id": "8850af82-ea28-48ca-9f73-1882044652bd",
   "metadata": {
    "scrolled": true
   },
   "outputs": [],
   "source": [
    "py = ld_matrix(ts, mode=\"branch\", stat=\"r2\")"
   ]
  },
  {
   "cell_type": "code",
   "execution_count": 12,
   "id": "8f150e88-10e9-421c-a187-d9fdca287c75",
   "metadata": {},
   "outputs": [
    {
     "data": {
      "text/plain": [
       "(True, 2.2737367544323206e-13, 0.0)"
      ]
     },
     "execution_count": 12,
     "metadata": {},
     "output_type": "execute_result"
    }
   ],
   "source": [
    "nanmask = ~np.isnan(c)\n",
    "np.isclose(c[nanmask], py[nanmask]).all(), (c[nanmask] - py[nanmask]).max(), (c[nanmask] - py[nanmask]).min()"
   ]
  },
  {
   "cell_type": "code",
   "execution_count": 13,
   "id": "10fd0be1-3255-4b83-b542-866b15339a9c",
   "metadata": {},
   "outputs": [
    {
     "data": {
      "text/plain": [
       "array([[1821.5       ,           nan],\n",
       "       [1586.66666667,           nan]])"
      ]
     },
     "execution_count": 13,
     "metadata": {},
     "output_type": "execute_result"
    }
   ],
   "source": [
    "c"
   ]
  },
  {
   "cell_type": "code",
   "execution_count": 14,
   "id": "00b47a5c-cca1-4c26-b6e0-dcad09cf88bc",
   "metadata": {},
   "outputs": [
    {
     "data": {
      "text/plain": [
       "array([[1821.5       , 1586.66666667],\n",
       "       [1586.66666667, 1735.83333333]])"
      ]
     },
     "execution_count": 14,
     "metadata": {},
     "output_type": "execute_result"
    }
   ],
   "source": [
    "py"
   ]
  },
  {
   "cell_type": "markdown",
   "id": "93201303-b8d8-4fcd-83a9-54a32ec91ce5",
   "metadata": {},
   "source": [
    "## More Complex\n",
    "Here's an example of a more complex example."
   ]
  },
  {
   "cell_type": "code",
   "execution_count": 15,
   "id": "e532252e-71d4-49c0-b209-d7169859b522",
   "metadata": {},
   "outputs": [],
   "source": [
    "ts = msprime.sim_ancestry(\n",
    "    samples=10,\n",
    "    ploidy=1,\n",
    "    sequence_length=40,\n",
    "    recombination_rate=1e-4,\n",
    "    population_size=1e3,\n",
    "    random_seed=23,\n",
    ")"
   ]
  },
  {
   "cell_type": "markdown",
   "id": "b63fba25-1058-49f0-83ea-a6cbd140f6a7",
   "metadata": {},
   "source": [
    "### $\\pi_2$"
   ]
  },
  {
   "cell_type": "code",
   "execution_count": 16,
   "id": "eb6f4002-9bbf-4446-b54f-a42665da3ac5",
   "metadata": {
    "scrolled": true
   },
   "outputs": [],
   "source": [
    "c = ts.ld_matrix(mode=\"branch\", stat=\"pi2\")"
   ]
  },
  {
   "cell_type": "code",
   "execution_count": 17,
   "id": "e87b9edc-0115-4d95-86f6-0ce7f85e1627",
   "metadata": {
    "scrolled": true
   },
   "outputs": [],
   "source": [
    "py = ld_matrix(ts, mode=\"branch\", stat=\"pi2\")"
   ]
  },
  {
   "cell_type": "code",
   "execution_count": 18,
   "id": "db6b8566-e670-4af5-8f93-4d0835126920",
   "metadata": {},
   "outputs": [
    {
     "data": {
      "text/plain": [
       "(True, 1.5832483768463135e-08, -7.450580596923828e-09)"
      ]
     },
     "execution_count": 18,
     "metadata": {},
     "output_type": "execute_result"
    }
   ],
   "source": [
    "np.isclose(c, py).all(), (c - py).max(), (c - py).min()"
   ]
  },
  {
   "cell_type": "markdown",
   "id": "b7e191d3-b493-43bc-afbc-fca510177261",
   "metadata": {},
   "source": [
    "### $r^2$"
   ]
  },
  {
   "cell_type": "code",
   "execution_count": 19,
   "id": "44369d3d-0c55-4c05-b2e5-81c2eb56c9d6",
   "metadata": {
    "scrolled": true
   },
   "outputs": [],
   "source": [
    "c = ts.ld_matrix(mode=\"branch\", stat=\"r2\")"
   ]
  },
  {
   "cell_type": "code",
   "execution_count": 20,
   "id": "e879db8a-07d6-471d-a002-40c4381fef53",
   "metadata": {
    "scrolled": true
   },
   "outputs": [],
   "source": [
    "py = ld_matrix(ts, mode=\"branch\", stat=\"r2\")"
   ]
  },
  {
   "cell_type": "code",
   "execution_count": 21,
   "id": "d9bf7fac-2914-45ce-bf56-8c1e9cb3f1d2",
   "metadata": {},
   "outputs": [
    {
     "data": {
      "text/plain": [
       "(True, 7.450580596923828e-08, -8.940696716308594e-08)"
      ]
     },
     "execution_count": 21,
     "metadata": {},
     "output_type": "execute_result"
    }
   ],
   "source": [
    "nanmask = ~np.isnan(c)\n",
    "np.isclose(c[nanmask], py[nanmask]).all(), (c[nanmask] - py[nanmask]).max(), (c[nanmask] - py[nanmask]).min()"
   ]
  },
  {
   "cell_type": "code",
   "execution_count": 22,
   "id": "097e7495-85f0-4f78-8665-6da1a7acedde",
   "metadata": {},
   "outputs": [
    {
     "data": {
      "text/plain": [
       "array([39502862.98000915, 52395794.02243844, 70767284.87660967,\n",
       "       70786992.33035223, 69643724.95931736, 30483545.5009362 ,\n",
       "       25673689.33023222, 19698955.5183011 , 15025683.44730757,\n",
       "       19698955.5183011 ,  6194092.26610015,  5437926.70221875,\n",
       "                     nan,               nan,               nan,\n",
       "                     nan])"
      ]
     },
     "execution_count": 22,
     "metadata": {},
     "output_type": "execute_result"
    }
   ],
   "source": [
    "c[0]"
   ]
  },
  {
   "cell_type": "code",
   "execution_count": 23,
   "id": "86004e6c-6358-4ec2-9436-7475b27cf21b",
   "metadata": {},
   "outputs": [
    {
     "data": {
      "text/plain": [
       "array([39502862.98000916, 52395794.02243846, 70767284.87660968,\n",
       "       70786992.33035226, 69643724.95931739, 30483545.50093625,\n",
       "       25673689.33023227, 19698955.51830116, 15025683.44730762,\n",
       "       19698955.51830115,  6194092.26610019,  5437926.7022188 ,\n",
       "        4824109.1753188 ,  5375057.16385493,  4304693.88301278,\n",
       "        4568993.24569805])"
      ]
     },
     "execution_count": 23,
     "metadata": {},
     "output_type": "execute_result"
    }
   ],
   "source": [
    "py[0]"
   ]
  }
 ],
 "metadata": {
  "kernelspec": {
   "display_name": "Python 3 (ipykernel)",
   "language": "python",
   "name": "python3"
  },
  "language_info": {
   "codemirror_mode": {
    "name": "ipython",
    "version": 3
   },
   "file_extension": ".py",
   "mimetype": "text/x-python",
   "name": "python",
   "nbconvert_exporter": "python",
   "pygments_lexer": "ipython3",
   "version": "3.12.6"
  }
 },
 "nbformat": 4,
 "nbformat_minor": 5
}
