{
 "cells": [
  {
   "cell_type": "code",
   "execution_count": 1,
   "id": "64371616-42ae-4137-ba63-96c21fdd8fe8",
   "metadata": {},
   "outputs": [],
   "source": [
    "from itertools import product\n",
    "\n",
    "import msprime\n",
    "import numpy as np\n",
    "import tskit"
   ]
  },
  {
   "cell_type": "code",
   "execution_count": 2,
   "id": "37d891c5-83f9-46a1-8bd2-7c59910a8659",
   "metadata": {},
   "outputs": [],
   "source": [
    "sequence_length = 11\n",
    "seed = 4\n",
    "Ne = 10_000\n",
    "mu = 2e-8\n",
    "r = 1.25e-5\n",
    "ts = msprime.sim_ancestry(\n",
    "    samples=100,\n",
    "    population_size=Ne,\n",
    "    recombination_rate=r,\n",
    "    sequence_length=sequence_length,\n",
    "    random_seed=seed,\n",
    ")\n",
    "ts = msprime.sim_mutations(ts, rate=2e-5)"
   ]
  },
  {
   "cell_type": "code",
   "execution_count": 3,
   "id": "6afb0f58-3b3a-4714-bf2b-e07b5abba35b",
   "metadata": {},
   "outputs": [],
   "source": [
    "tests = [\n",
    "    (\"site\", \"D2_ij\", \"equal\"),\n",
    "    (\"branch\", \"D2_ij\", \"equal\"),\n",
    "    (\"site\", \"r2_ij\", \"isclose_nan\"),\n",
    "    (\"branch\", \"r2_ij\", \"isclose\"),\n",
    "]"
   ]
  },
  {
   "cell_type": "code",
   "execution_count": 4,
   "id": "c01b776c-6442-4d9d-9930-5d27d15f68f1",
   "metadata": {},
   "outputs": [],
   "source": [
    "eq_funcs = {\n",
    "    \"equal\": lambda a, b: (a == b).all(),\n",
    "    \"isclose\": lambda a, b: np.isclose(a, b).all(),\n",
    "    \"isclose_nan\": lambda a, b: np.isclose(a, b, equal_nan=True).all(),\n",
    "}"
   ]
  },
  {
   "cell_type": "code",
   "execution_count": 5,
   "id": "d26fb407-9881-4696-959b-ecaab6360c67",
   "metadata": {},
   "outputs": [
    {
     "name": "stdout",
     "output_type": "stream",
     "text": [
      "mode=site, stat=D2_ij, comp=equal\n",
      "all equal\n",
      "mode=branch, stat=D2_ij, comp=equal\n",
      "all equal\n",
      "mode=site, stat=r2_ij, comp=isclose_nan\n",
      "all equal\n",
      "mode=branch, stat=r2_ij, comp=isclose\n",
      "all equal\n"
     ]
    }
   ],
   "source": [
    "sample_sets = [ts.samples(), ts.samples(), ts.samples(), ts.samples()]\n",
    "ss_range = range(len(sample_sets))\n",
    "indexes = list(product(ss_range, ss_range))\n",
    "for mode, stat, comp in tests:\n",
    "    print(f\"mode={mode}, stat={stat}, comp={comp}\")\n",
    "    a = ts.ld_matrix_two_way(\n",
    "        sample_sets,\n",
    "        mode=\"site\",\n",
    "        stat=\"D2_ij\",\n",
    "        indexes=indexes,\n",
    "    )\n",
    "    b = ts.ld_matrix(mode=\"site\", stat=\"D2\", sample_sets=sample_sets)\n",
    "    for i in ss_range:\n",
    "        for j in range(len(indexes)):\n",
    "            assert eq_funcs[comp](a[i], b[i])\n",
    "    print(\"all equal\")"
   ]
  }
 ],
 "metadata": {
  "kernelspec": {
   "display_name": "tskit-ld-1",
   "language": "python",
   "name": "tskit-ld-1"
  },
  "language_info": {
   "codemirror_mode": {
    "name": "ipython",
    "version": 3
   },
   "file_extension": ".py",
   "mimetype": "text/x-python",
   "name": "python",
   "nbconvert_exporter": "python",
   "pygments_lexer": "ipython3",
   "version": "3.12.3"
  }
 },
 "nbformat": 4,
 "nbformat_minor": 5
}
