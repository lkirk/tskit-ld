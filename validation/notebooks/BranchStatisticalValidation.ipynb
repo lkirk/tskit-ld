{
 "cells": [
  {
   "cell_type": "code",
   "execution_count": 3,
   "id": "ad105fd0-7384-468a-b812-a7bfc01e37b1",
   "metadata": {},
   "outputs": [
    {
     "ename": "ImportError",
     "evalue": "cannot import name 'Timestamp' from 'timestamp' (unknown location)",
     "output_type": "error",
     "traceback": [
      "\u001b[0;31m---------------------------------------------------------------------------\u001b[0m",
      "\u001b[0;31mImportError\u001b[0m                               Traceback (most recent call last)",
      "Cell \u001b[0;32mIn[3], line 4\u001b[0m\n\u001b[1;32m      1\u001b[0m \u001b[38;5;28;01mfrom\u001b[39;00m \u001b[38;5;21;01mpathlib\u001b[39;00m \u001b[38;5;28;01mimport\u001b[39;00m Path\n\u001b[1;32m      3\u001b[0m \u001b[38;5;28;01mimport\u001b[39;00m \u001b[38;5;21;01mmatplotlib\u001b[39;00m\u001b[38;5;21;01m.\u001b[39;00m\u001b[38;5;21;01mpyplot\u001b[39;00m \u001b[38;5;28;01mas\u001b[39;00m \u001b[38;5;21;01mplt\u001b[39;00m\n\u001b[0;32m----> 4\u001b[0m \u001b[38;5;28;01mimport\u001b[39;00m \u001b[38;5;21;01mmoments\u001b[39;00m\u001b[38;5;21;01m.\u001b[39;00m\u001b[38;5;21;01mLD\u001b[39;00m\n\u001b[1;32m      5\u001b[0m \u001b[38;5;28;01mimport\u001b[39;00m \u001b[38;5;21;01mnumpy\u001b[39;00m \u001b[38;5;28;01mas\u001b[39;00m \u001b[38;5;21;01mnp\u001b[39;00m\n",
      "File \u001b[0;32m~/repo/tskit-ld/ve/lib/python3.12/site-packages/moments/__init__.py:14\u001b[0m\n\u001b[1;32m      1\u001b[0m \u001b[38;5;66;03m# so this directory is treated as a python package\u001b[39;00m\n\u001b[1;32m      2\u001b[0m \u001b[38;5;66;03m# http://www.python.org/doc/2.0.1/tut/node8.html\u001b[39;00m\n\u001b[1;32m      4\u001b[0m __all__ \u001b[38;5;241m=\u001b[39m [\u001b[38;5;124m\"\u001b[39m\u001b[38;5;124mtag\u001b[39m\u001b[38;5;124m\"\u001b[39m,\n\u001b[1;32m      5\u001b[0m            \u001b[38;5;124m\"\u001b[39m\u001b[38;5;124massociation\u001b[39m\u001b[38;5;124m\"\u001b[39m,\n\u001b[1;32m      6\u001b[0m            \u001b[38;5;124m\"\u001b[39m\u001b[38;5;124mtimestamp\u001b[39m\u001b[38;5;124m\"\u001b[39m\n\u001b[0;32m   (...)\u001b[0m\n\u001b[1;32m     11\u001b[0m            \u001b[38;5;124m\"\u001b[39m\u001b[38;5;124mpath\u001b[39m\u001b[38;5;124m\"\u001b[39m,\n\u001b[1;32m     12\u001b[0m            ]\n\u001b[0;32m---> 14\u001b[0m \u001b[38;5;28;01mfrom\u001b[39;00m \u001b[38;5;21;01mtimestamp\u001b[39;00m \u001b[38;5;28;01mimport\u001b[39;00m Timestamp\n\u001b[1;32m     15\u001b[0m \u001b[38;5;28;01mfrom\u001b[39;00m \u001b[38;5;21;01mjournal\u001b[39;00m \u001b[38;5;28;01mimport\u001b[39;00m Journal\n\u001b[1;32m     16\u001b[0m \u001b[38;5;28;01mfrom\u001b[39;00m \u001b[38;5;21;01mpath\u001b[39;00m \u001b[38;5;28;01mimport\u001b[39;00m Path\n",
      "\u001b[0;31mImportError\u001b[0m: cannot import name 'Timestamp' from 'timestamp' (unknown location)"
     ]
    }
   ],
   "source": [
    "from pathlib import Path\n",
    "\n",
    "import matplotlib.pyplot as plt\n",
    "import moments.LD\n",
    "import numpy as np"
   ]
  },
  {
   "cell_type": "code",
   "execution_count": null,
   "id": "3cf93952-5d63-4ba7-943d-5518f398cac8",
   "metadata": {},
   "outputs": [],
   "source": [
    "Ne = 10_000\n",
    "mu = 2e-8\n",
    "r = 1.25e-5\n",
    "theta = 4 * Ne * mu\n",
    "rho = 4 * Ne * r"
   ]
  },
  {
   "cell_type": "code",
   "execution_count": null,
   "id": "c11036d8-3958-4c5b-baa1-d528f1701305",
   "metadata": {},
   "outputs": [],
   "source": [
    "1 / (4 * Ne), theta, rho"
   ]
  },
  {
   "cell_type": "code",
   "execution_count": null,
   "id": "fcaa9335-5baf-4605-8507-5ae374ee823b",
   "metadata": {
    "scrolled": true
   },
   "outputs": [],
   "source": [
    "moments_result = moments.LD.Demographics1D.snm(\n",
    "    rho=np.arange(60) * 4 * Ne * r,\n",
    "    theta=theta,\n",
    "    # rho=np.arange(11) * 4 * Ne * r, theta=theta\n",
    ")\n",
    "print(moments_result.names())\n",
    "print(moments_result)\n",
    "moments_ld_stats = np.vstack(moments_result[:-1])\n",
    "moments_d2 = moments_ld_stats[:, 0]\n",
    "moments_dz = moments_ld_stats[:, 1]\n",
    "moments_pi2 = moments_ld_stats[:, 2]"
   ]
  },
  {
   "cell_type": "code",
   "execution_count": null,
   "id": "87c5b428-257c-4b64-ae71-668282da1ead",
   "metadata": {},
   "outputs": [],
   "source": [
    "sim_results = Path(\n",
    "    \"~/simulation-outputs/ld-branch-validation-c-sims/output-1586920/result\"\n",
    ").expanduser()"
   ]
  },
  {
   "cell_type": "code",
   "execution_count": null,
   "id": "c954b9d6-927b-4bd1-bdbd-11da08f753a1",
   "metadata": {},
   "outputs": [],
   "source": [
    "sim_data = np.dstack([np.load(path)[\"arr_0\"] for path in sim_results.iterdir()]).mean(2)\n",
    "d2 = sim_data[0]\n",
    "dz = sim_data[1]\n",
    "pi2 = sim_data[2]"
   ]
  },
  {
   "cell_type": "code",
   "execution_count": null,
   "id": "4a60b565-2a65-4f77-8bc6-1f6b7596f345",
   "metadata": {},
   "outputs": [],
   "source": [
    "def relative_error(observed, expected):\n",
    "    return np.abs(observed - expected) / expected"
   ]
  },
  {
   "cell_type": "code",
   "execution_count": null,
   "id": "8f28a155-e971-4690-8aef-b1df70ff83e3",
   "metadata": {},
   "outputs": [],
   "source": [
    "results = list(\n",
    "    zip(\n",
    "        [moments_d2, moments_dz, moments_pi2],\n",
    "        [d2, dz, pi2],\n",
    "        [\"$D^2$\", \"$D_z$\", \"$\\pi_2$\"],\n",
    "    )\n",
    ")\n",
    "\n",
    "\n",
    "def plot_results(results):\n",
    "    fig, axes = plt.subplots(2, 3, figsize=(10, 6))\n",
    "    fig.suptitle(\"Comparison of two-locus statistics from Moments and tskit\")\n",
    "    num_x_ticks = 5\n",
    "    for i, (moments, tskit, label) in enumerate(results):\n",
    "        xticklabels = [\n",
    "            f\"${int(i)}N_er$\"\n",
    "            for i in np.arange(len(moments), step=len(moments) // num_x_ticks)\n",
    "            * 4\n",
    "            * Ne\n",
    "            * r\n",
    "        ]\n",
    "        axes[0, i].plot(moments, \".-\", label=\"moments\")\n",
    "        axes[0, i].plot(tskit, \".-\", label=\"tskit\")\n",
    "        axes[1, i].plot(relative_error(tskit, moments), \".-\", label=\"Relative Error\")\n",
    "        axes[0, i].set_title(label)\n",
    "        for ax in axes[:, i]:\n",
    "            ax.legend()\n",
    "            ax.set_xticks(\n",
    "                np.arange(len(moments), step=len(moments) // num_x_ticks), xticklabels\n",
    "            )\n",
    "    fig.tight_layout()"
   ]
  },
  {
   "cell_type": "code",
   "execution_count": null,
   "id": "56da9f25-abd8-4424-bfb4-204106bde26e",
   "metadata": {},
   "outputs": [],
   "source": [
    "plot_results(results)"
   ]
  },
  {
   "cell_type": "markdown",
   "id": "1b4a696d-f4f6-4f0d-bcf1-28c3a3cb8016",
   "metadata": {},
   "source": [
    "Compare to the original [python prototype validation](https://github.com/lkirk/tskit-ld/blob/4546a5d/validation/notebooks/BranchStatisticalValidation.ipynb)"
   ]
  }
 ],
 "metadata": {
  "kernelspec": {
   "display_name": "tskit-ld-1",
   "language": "python",
   "name": "tskit-ld-1"
  },
  "language_info": {
   "codemirror_mode": {
    "name": "ipython",
    "version": 3
   },
   "file_extension": ".py",
   "mimetype": "text/x-python",
   "name": "python",
   "nbconvert_exporter": "python",
   "pygments_lexer": "ipython3",
   "version": "3.12.3"
  }
 },
 "nbformat": 4,
 "nbformat_minor": 5
}
