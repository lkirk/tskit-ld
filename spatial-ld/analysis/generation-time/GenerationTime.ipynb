{
 "cells": [
  {
   "cell_type": "markdown",
   "id": "c9e11f8a-8025-4303-8c5b-2837d48d07c8",
   "metadata": {},
   "source": [
    "# Generation Time\n",
    "\n",
    "This notebook is a demonstration of generation time bias and why we're choosing a WF model instead of a nonWF model for our SLiM simulations"
   ]
  },
  {
   "cell_type": "code",
   "execution_count": 1,
   "id": "4738d2bf-621c-4bb9-b75b-2a75035bde1e",
   "metadata": {},
   "outputs": [],
   "source": [
    "import os\n",
    "import sys\n",
    "from pathlib import Path\n",
    "\n",
    "import matplotlib.pyplot as plt\n",
    "import msprime\n",
    "import numpy as np\n",
    "import pyslim\n",
    "import tskit"
   ]
  },
  {
   "cell_type": "code",
   "execution_count": 2,
   "id": "1ea532a6-c2cc-43da-867f-7afd685e7147",
   "metadata": {},
   "outputs": [],
   "source": [
    "TREE_OUT = str(Path(\"~/simulation-outputs/slim-generation-time\").expanduser())\n",
    "SEED = 23"
   ]
  },
  {
   "cell_type": "markdown",
   "id": "becc8f5f-ff44-4a00-9d94-8d5706e7297b",
   "metadata": {},
   "source": [
    "## Generation Time Bias\n",
    "\n",
    "Here, I'm reproducing the result from the [pyslim docs](https://web.archive.org/web/20240522192050/https://tskit.dev/pyslim/docs/stable/time_units.html)"
   ]
  },
  {
   "cell_type": "code",
   "execution_count": 41,
   "id": "c754d4be-734c-46cb-98f9-daacc3041ad4",
   "metadata": {},
   "outputs": [],
   "source": [
    "mu = 4e-7\n",
    "Ne = 1000\n",
    "r = 1e-8"
   ]
  },
  {
   "cell_type": "code",
   "execution_count": 42,
   "id": "01d48fa2-4b02-4f3f-858c-96e92038089e",
   "metadata": {},
   "outputs": [
    {
     "name": "stdout",
     "output_type": "stream",
     "text": [
      "// Initial random seed:\n",
      "23\n",
      "\n",
      "// RunInitializeCallbacks():\n",
      "initializeSLiMModelType(modelType = 'nonWF');\n",
      "initializeSex(\"A\");\n",
      "initializeTreeSeq();\n",
      "initializeMutationRate(4e-07);\n",
      "initializeMutationType(1, 0.5, \"f\", 0);\n",
      "initializeGenomicElementType(1, m1, 1);\n",
      "initializeGenomicElement(g1, 0, 99999);\n",
      "initializeRecombinationRate(1e-08);\n",
      "#WARNING (Species::RunInitializeCallbacks): with tree-sequence recording enabled and a non-zero mutation rate, a neutral mutation type was defined and used; this is legal, but usually undesirable, since neutral mutations can be overlaid later using the tree-sequence information.\n",
      "\n",
      "// Starting run at tick <start>:\n",
      "1 \n",
      "\n",
      "Done! Mean generation time 2.50658\n"
     ]
    }
   ],
   "source": [
    "!slim -s {SEED} -d mu={mu} -d K={Ne} -d outfile=\"'{TREE_OUT}/generation-time.trees'\" ~/repo/tskit-ld/spatial-ld/sim/slim/generation-time.slim"
   ]
  },
  {
   "cell_type": "code",
   "execution_count": 43,
   "id": "14575002-a142-4f65-b1ee-945b1718253f",
   "metadata": {},
   "outputs": [],
   "source": [
    "ts = tskit.load(f\"{TREE_OUT}/generation-time.trees\")"
   ]
  },
  {
   "cell_type": "code",
   "execution_count": 44,
   "id": "2f800e6f-9909-4c6f-9878-bdea8ba27aa7",
   "metadata": {},
   "outputs": [
    {
     "data": {
      "image/png": "[encoded data removed]",
      "text/plain": [
       "<Figure size 300x150 with 1 Axes>"
      ]
     },
     "metadata": {},
     "output_type": "display_data"
    }
   ],
   "source": [
    "plt.figure(figsize=(3, 1.5))\n",
    "plt.plot(ts.metadata[\"SLiM\"][\"user_metadata\"][\"generation_times\"])\n",
    "plt.xlabel('Time \"tick\"')\n",
    "plt.ylabel(\"Mean parent age\");"
   ]
  },
  {
   "cell_type": "code",
   "execution_count": 45,
   "id": "2e16d25e-29ae-4f6e-aed4-e6881ac55571",
   "metadata": {},
   "outputs": [
    {
     "data": {
      "text/plain": [
       "2.5065767823335174"
      ]
     },
     "execution_count": 45,
     "metadata": {},
     "output_type": "execute_result"
    }
   ],
   "source": [
    "gen_times = np.array(ts.metadata[\"SLiM\"][\"user_metadata\"][\"generation_times\"])\n",
    "gt = gen_times[50:100].mean()\n",
    "gt"
   ]
  },
  {
   "cell_type": "code",
   "execution_count": 46,
   "id": "5b69fce8-5413-42e4-a957-eaaefc9a1740",
   "metadata": {},
   "outputs": [
    {
     "data": {
      "text/plain": [
       "2.8949548885570537e-05"
      ]
     },
     "execution_count": 46,
     "metadata": {},
     "output_type": "execute_result"
    }
   ],
   "source": [
    "ts.diversity(mode=\"site\")"
   ]
  },
  {
   "cell_type": "code",
   "execution_count": 47,
   "id": "d095f825-796a-40fe-944a-3fb0ea56d8d2",
   "metadata": {},
   "outputs": [
    {
     "data": {
      "text/plain": [
       "3.0713346353589596e-05"
      ]
     },
     "execution_count": 47,
     "metadata": {},
     "output_type": "execute_result"
    }
   ],
   "source": [
    "ts.diversity(mode=\"branch\") * mu / gt"
   ]
  },
  {
   "cell_type": "code",
   "execution_count": 48,
   "id": "ef17757c-4e35-48cf-9313-bd34f43f56dd",
   "metadata": {},
   "outputs": [
    {
     "name": "stderr",
     "output_type": "stream",
     "text": [
      "/home/lkirk/repo/tskit-ld/ve/lib/python3.12/site-packages/msprime/ancestry.py:1290: TimeUnitsMismatchWarning: The initial_state has time_units=ticks but time is measured in generations in msprime. This may lead to significant discrepancies between the timescales. If you wish to suppress this warning, you can use, e.g., warnings.simplefilter('ignore', msprime.TimeUnitsMismatchWarning)\n",
      "  sim = _parse_sim_ancestry(\n"
     ]
    }
   ],
   "source": [
    "rts = pyslim.recapitate(\n",
    "    ts, recombination_rate=r / gt, ancestral_Ne=Ne * gt, random_seed=SEED\n",
    ")\n",
    "mts = msprime.sim_mutations(\n",
    "    rts,\n",
    "    rate=mu / gt,\n",
    "    model=msprime.SLiMMutationModel(type=0),\n",
    "    keep=True,\n",
    "    start_time=100,\n",
    "    random_seed=SEED,\n",
    ")"
   ]
  },
  {
   "cell_type": "markdown",
   "id": "598b1e54-0733-4a19-8ff6-c5e68a04c4a9",
   "metadata": {},
   "source": [
    "When we recapitate and compute the diversity, the assumptions of the wright-fisher model in msprime "
   ]
  },
  {
   "cell_type": "code",
   "execution_count": 49,
   "id": "c8c8b518-38fb-42f8-a0cd-a88b4c3cda77",
   "metadata": {},
   "outputs": [
    {
     "data": {
      "text/plain": [
       "0.0009369349378000223"
      ]
     },
     "execution_count": 49,
     "metadata": {},
     "output_type": "execute_result"
    }
   ],
   "source": [
    "mts.diversity()"
   ]
  },
  {
   "cell_type": "code",
   "execution_count": 50,
   "id": "bdcab506-44c1-4d57-bfce-11648228c868",
   "metadata": {},
   "outputs": [
    {
     "data": {
      "text/plain": [
       "0.0009675050648221161"
      ]
     },
     "execution_count": 50,
     "metadata": {},
     "output_type": "execute_result"
    }
   ],
   "source": [
    "mts.diversity(mode=\"branch\") * mu / gt"
   ]
  },
  {
   "cell_type": "code",
   "execution_count": 51,
   "id": "048af786-3cf4-48fd-acf0-aa4e9ae6d2b5",
   "metadata": {},
   "outputs": [
    {
     "data": {
      "text/plain": [
       "304"
      ]
     },
     "execution_count": 51,
     "metadata": {},
     "output_type": "execute_result"
    }
   ],
   "source": [
    "ts.num_sites"
   ]
  },
  {
   "cell_type": "code",
   "execution_count": 52,
   "id": "687329cd-9997-42c7-8a5f-9dc9a38f7481",
   "metadata": {},
   "outputs": [
    {
     "data": {
      "text/plain": [
       "945"
      ]
     },
     "execution_count": 52,
     "metadata": {},
     "output_type": "execute_result"
    }
   ],
   "source": [
    "mts.num_sites"
   ]
  },
  {
   "cell_type": "code",
   "execution_count": 15,
   "id": "e7a07b6f-25e3-420a-8bd2-c8781a3a9b84",
   "metadata": {},
   "outputs": [],
   "source": [
    "from joblib import Parallel, delayed\n",
    "def parallel_branch_ld(ts, num_cores, verbose=10, **kwargs):\n",
    "    if \"positions\" not in kwargs:\n",
    "        tril_idx = np.tril_indices(ts.num_trees, k=-1)\n",
    "        result = np.zeros((ts.num_trees, ts.num_trees), dtype=np.float64)\n",
    "        bp = list(ts.breakpoints())[:-1]\n",
    "        tree_range = range(ts.num_trees)\n",
    "    else:\n",
    "        bp = list(kwargs.pop(\"positions\"))\n",
    "        tril_idx = np.tril_indices(len(bp), k=-1)\n",
    "        result = np.zeros((len(bp), len(bp)), dtype=np.float64)\n",
    "        tree_range = range(len(bp))\n",
    "\n",
    "    p = Parallel(\n",
    "        n_jobs=num_cores, return_as=\"generator\", backend=\"threading\", verbose=verbose\n",
    "    )\n",
    "    p_iter = p(\n",
    "        delayed(ts.ld_matrix)(mode=\"branch\", positions=[[bp[i]], bp[i:]], **kwargs)\n",
    "        for i in tree_range\n",
    "    )\n",
    "    for i, row in zip(tree_range, p_iter):\n",
    "        result[i, i:] = row\n",
    "    result[tril_idx] = result.T[tril_idx]\n",
    "    return result"
   ]
  },
  {
   "cell_type": "code",
   "execution_count": 53,
   "id": "0b5e13e4-f197-4691-963a-ef2434764542",
   "metadata": {},
   "outputs": [],
   "source": [
    "ld_site = ts.ld_matrix(stat=\"D2\")"
   ]
  },
  {
   "cell_type": "code",
   "execution_count": 54,
   "id": "b036f01d-1065-418d-aaf4-f5ad2c0f985b",
   "metadata": {},
   "outputs": [],
   "source": [
    "ld_branch = ts.ld_matrix(mode=\"branch\", stat=\"D2\", positions=[ts.tables.sites.position])"
   ]
  },
  {
   "cell_type": "code",
   "execution_count": 55,
   "id": "ef7e8fd2-d151-49c5-9507-a39fbad0f2ac",
   "metadata": {},
   "outputs": [],
   "source": [
    "def get_branch_lengths(ts):\n",
    "    l = np.array([t.total_branch_length for t in ts.trees()])\n",
    "    return np.outer(l, l)"
   ]
  },
  {
   "cell_type": "code",
   "execution_count": 56,
   "id": "8ba2d0c6-b1f6-42da-ada8-efe79773ac1a",
   "metadata": {},
   "outputs": [],
   "source": [
    "lengths = get_branch_lengths(ts)"
   ]
  },
  {
   "cell_type": "code",
   "execution_count": 57,
   "id": "bcc1824a-0e7c-4f0f-b38e-187ebc96bf65",
   "metadata": {},
   "outputs": [],
   "source": [
    "def positions_to_tree_indices(bp, positions):\n",
    "    tree_idx = 0\n",
    "    tree_indices = -np.ones_like(positions, dtype=np.int32)\n",
    "\n",
    "    for i in range(len(positions)):\n",
    "        while bp[tree_idx + 1] <= positions[i]:\n",
    "            tree_idx += 1\n",
    "        tree_indices[i] = tree_idx\n",
    "\n",
    "    return tree_indices\n",
    "\n",
    "\n",
    "def get_index_repeats(indices):\n",
    "    counts = np.zeros(indices[-1] - indices[0] + 1, dtype=np.int32)\n",
    "    idx = indices[0]\n",
    "    count = 1\n",
    "    for i in range(1, len(indices)):\n",
    "        if indices[i] == indices[i - 1]:\n",
    "            count += 1\n",
    "        else:\n",
    "            counts[idx - indices[0]] = count\n",
    "            count = 1\n",
    "            idx = indices[i]\n",
    "    counts[idx - indices[0]] = count\n",
    "    return counts\n",
    "\n",
    "\n",
    "def position_array(ts, stat_arr, pos):\n",
    "    idx = positions_to_tree_indices(ts.breakpoints(as_array=True), pos)\n",
    "    a = np.zeros((len(idx), len(idx)))\n",
    "    repeats = get_index_repeats(idx)\n",
    "    row = 0\n",
    "    for r in range(idx[-1] - idx[0] + 1):\n",
    "        col = 0\n",
    "        for c in range(idx[-1] - idx[0] + 1):\n",
    "            for i in range(repeats[r]):\n",
    "                for j in range(repeats[c]):\n",
    "                    a[i + row, j + col] = stat_arr[r, c]\n",
    "            col += repeats[c]\n",
    "        row += repeats[r]\n",
    "    return a"
   ]
  },
  {
   "cell_type": "code",
   "execution_count": 58,
   "id": "e1701d51-3c9c-4aab-b50e-fda045b9c753",
   "metadata": {},
   "outputs": [],
   "source": [
    "pos_lengths = position_array(ts, lengths, ts.tables.sites.position)"
   ]
  },
  {
   "cell_type": "code",
   "execution_count": 59,
   "id": "3ef745b8-df64-427c-beb8-c246572cfb90",
   "metadata": {},
   "outputs": [
    {
     "data": {
      "text/plain": [
       "(10, 304, 2014, 304, 100000.0, 1000, 1e-08, 4e-07)"
      ]
     },
     "execution_count": 59,
     "metadata": {},
     "output_type": "execute_result"
    }
   ],
   "source": [
    "ts.num_trees, ts.num_sites, ts.num_samples, ts.num_sites, ts.sequence_length, Ne, r, mu"
   ]
  },
  {
   "cell_type": "code",
   "execution_count": 60,
   "id": "dfce2936-58ac-4963-bc2d-f8cb5d90070f",
   "metadata": {},
   "outputs": [
    {
     "data": {
      "text/plain": [
       "2.5575310387804153e-07"
      ]
     },
     "execution_count": 60,
     "metadata": {},
     "output_type": "execute_result"
    }
   ],
   "source": [
    "(ld_branch / pos_lengths)[np.triu_indices(len(ld_branch), k=1)].mean()"
   ]
  },
  {
   "cell_type": "code",
   "execution_count": 61,
   "id": "1ca44a8c-ccf7-4e5d-a50a-b8825f43d311",
   "metadata": {},
   "outputs": [
    {
     "data": {
      "text/plain": [
       "2.3559045555869882e-07"
      ]
     },
     "execution_count": 61,
     "metadata": {},
     "output_type": "execute_result"
    }
   ],
   "source": [
    "ld_site[np.triu_indices(len(ld_site), k=1)].mean()"
   ]
  },
  {
   "cell_type": "code",
   "execution_count": 59,
   "id": "cb234416-b480-40a0-8e9f-91f0f187d643",
   "metadata": {},
   "outputs": [],
   "source": [
    "distances = np.subtract.outer(ts.tables.sites.position, ts.tables.sites.position)"
   ]
  },
  {
   "cell_type": "code",
   "execution_count": 58,
   "id": "ed7b83d4-1153-496a-9571-e39df0aa5b34",
   "metadata": {},
   "outputs": [
    {
     "name": "stdout",
     "output_type": "stream",
     "text": [
      "// Initial random seed:\n",
      "23\n",
      "\n",
      "// RunInitializeCallbacks():\n",
      "initializeSLiMModelType(modelType = 'nonWF');\n",
      "initializeSex(\"A\");\n",
      "initializeTreeSeq();\n",
      "initializeMutationRate(0);\n",
      "initializeMutationType(1, 0.5, \"f\", 0);\n",
      "initializeGenomicElementType(1, m1, 1);\n",
      "initializeGenomicElement(g1, 0, 99999);\n",
      "initializeRecombinationRate(1e-08);\n",
      "\n",
      "// Starting run at tick <start>:\n",
      "1 \n",
      "\n",
      "Done! Mean generation time 2.47983\n"
     ]
    }
   ],
   "source": [
    "!slim -s {SEED} -d mu=0 -d K={Ne} -d outfile=\"'{TREE_OUT}/generation-time-nomut.trees'\" ~/repo/tskit-ld/spatial-ld/sim/slim/generation-time.slim"
   ]
  },
  {
   "cell_type": "code",
   "execution_count": null,
   "id": "277c63ae-3c96-4302-9b7d-fba47c64c6b9",
   "metadata": {},
   "outputs": [],
   "source": [
    "ts = tskit.load(f\"{TREE_OUT}/generation-time-nomut.trees\")"
   ]
  },
  {
   "cell_type": "code",
   "execution_count": null,
   "id": "438a4ce6-f5c6-4902-863d-ef15dcebe866",
   "metadata": {},
   "outputs": [],
   "source": [
    "rts = pyslim.recapitate(\n",
    "    ts, recombination_rate=r / gt, ancestral_Ne=Ne * gt, random_seed=SEED\n",
    ")\n",
    "mts = msprime.sim_mutations(rts, rate=mu / gt, random_seed=SEED)\n",
    "ts = msprime.sim_mutations(ts, rate=mu / gt, random_seed=SEED)"
   ]
  },
  {
   "cell_type": "markdown",
   "id": "759c9748-dc12-4d46-bfea-0601b05d4acf",
   "metadata": {},
   "source": [
    "Slim with no mutations, msprime mutations added throughout"
   ]
  },
  {
   "cell_type": "code",
   "execution_count": null,
   "id": "ff36023d-5abf-4e54-abfa-f3513d3fab90",
   "metadata": {},
   "outputs": [],
   "source": [
    "ts.diversity(mode=\"site\")"
   ]
  },
  {
   "cell_type": "code",
   "execution_count": null,
   "id": "10020ea9-3949-4a2b-ba7c-7241a7228bc2",
   "metadata": {},
   "outputs": [],
   "source": [
    "ts.diversity(mode=\"branch\") * mu / gt"
   ]
  },
  {
   "cell_type": "markdown",
   "id": "9d5319a8-a84a-451d-a4b0-db524880812c",
   "metadata": {},
   "source": [
    "Slim with no mutations, recapitated, tree with msprime mutations added throughout"
   ]
  },
  {
   "cell_type": "code",
   "execution_count": null,
   "id": "b018ad46-6fbc-42fa-877c-70b2f9c62178",
   "metadata": {},
   "outputs": [],
   "source": [
    "mts.diversity(mode=\"site\")"
   ]
  },
  {
   "cell_type": "code",
   "execution_count": null,
   "id": "9add3a7c-f088-47cb-8b08-567a6e6de384",
   "metadata": {},
   "outputs": [],
   "source": [
    "mts.diversity(mode=\"branch\") * mu / gt"
   ]
  },
  {
   "cell_type": "markdown",
   "id": "02954388-9e63-4ace-abdd-37679450c138",
   "metadata": {},
   "source": [
    "Compare this with ancestry and mutation simulated in msprime"
   ]
  },
  {
   "cell_type": "code",
   "execution_count": null,
   "id": "c6797a51-4767-41df-b7d5-f28255ac64e3",
   "metadata": {},
   "outputs": [],
   "source": [
    "for t in msprime.sim_ancestry(\n",
    "    samples=10_000,\n",
    "    sequence_length=1e8,\n",
    "    recombination_rate=r,\n",
    "    population_size=Ne,\n",
    "    random_seed=SEED,\n",
    "    num_replicates=10,\n",
    "):\n",
    "    t = msprime.sim_mutations(t, rate=mu, random_seed=SEED)\n",
    "\n",
    "    print(\"site\", t.diversity(mode=\"site\"))\n",
    "    print(\"branch\", t.diversity(mode=\"branch\") * mu)"
   ]
  },
  {
   "cell_type": "markdown",
   "id": "53d600be-2cfb-41ef-a807-4b80a4d80d2e",
   "metadata": {},
   "source": [
    "Now, let's look at LD"
   ]
  },
  {
   "cell_type": "markdown",
   "id": "e5fa4737-2024-4306-b170-f4f98f2368dd",
   "metadata": {},
   "source": [
    "## Wright-Fisher model\n",
    "\n",
    "Since we want to simulate ancestry in SLiM, but we want accurate estimates of site and branch statistics to demonstrate our LD matrix methods, we'll want to use a Wright-Fisher model. Here, I demonstrate the consistency between the estimates of branch and site statistics."
   ]
  },
  {
   "cell_type": "code",
   "execution_count": null,
   "id": "0c522472-9b51-4d85-8d21-1a51d4d57c98",
   "metadata": {},
   "outputs": [],
   "source": [
    "!slim -s {SEED} -d mu={mu} -d N={Ne} -d outfile=\"'{TREE_OUT}/wf-simple.trees'\" ~/repo/tskit-ld/spatial-ld/sim/slim/wf-simple.slim"
   ]
  },
  {
   "cell_type": "code",
   "execution_count": null,
   "id": "97f01ff9-2e4c-427e-8ff0-8d3f58aa68db",
   "metadata": {},
   "outputs": [],
   "source": [
    "ts = tskit.load(f\"{TREE_OUT}/wf-simple.trees\")"
   ]
  },
  {
   "cell_type": "code",
   "execution_count": null,
   "id": "250a5d74-f84d-48f5-8bd6-c979528575e8",
   "metadata": {},
   "outputs": [],
   "source": [
    "ts.diversity()"
   ]
  },
  {
   "cell_type": "code",
   "execution_count": null,
   "id": "37eaa5ad-37de-4b1f-8821-cd6b7d008851",
   "metadata": {},
   "outputs": [],
   "source": [
    "ts.diversity(mode=\"branch\") * mu"
   ]
  },
  {
   "cell_type": "code",
   "execution_count": null,
   "id": "8cdf1a9a-1fe9-46e7-a940-1166b98f056c",
   "metadata": {},
   "outputs": [],
   "source": [
    "rts = pyslim.recapitate(ts, recombination_rate=r, ancestral_Ne=Ne, random_seed=SEED)\n",
    "mts = msprime.sim_mutations(\n",
    "    rts,\n",
    "    rate=mu,\n",
    "    model=msprime.SLiMMutationModel(type=0),\n",
    "    keep=True,\n",
    "    start_time=100,\n",
    "    random_seed=SEED,\n",
    ")"
   ]
  },
  {
   "cell_type": "code",
   "execution_count": null,
   "id": "f5ec1267-1e1c-4dd0-8613-bf2b76990cfc",
   "metadata": {},
   "outputs": [],
   "source": [
    "mts.diversity(mode=\"site\")"
   ]
  },
  {
   "cell_type": "code",
   "execution_count": null,
   "id": "878cd47b-dc81-43d0-bcc6-76801c5a3bd1",
   "metadata": {},
   "outputs": [],
   "source": [
    "mts.diversity(mode=\"branch\") * mu"
   ]
  }
 ],
 "metadata": {
  "kernelspec": {
   "display_name": "tskit-ld-1",
   "language": "python",
   "name": "tskit-ld-1"
  },
  "language_info": {
   "codemirror_mode": {
    "name": "ipython",
    "version": 3
   },
   "file_extension": ".py",
   "mimetype": "text/x-python",
   "name": "python",
   "nbconvert_exporter": "python",
   "pygments_lexer": "ipython3",
   "version": "3.12.3"
  }
 },
 "nbformat": 4,
 "nbformat_minor": 5
}
