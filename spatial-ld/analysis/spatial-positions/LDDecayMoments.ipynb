{
 "cells": [
  {
   "cell_type": "markdown",
   "id": "c7490e26-440c-4a77-a306-d73585e0a0da",
   "metadata": {},
   "source": [
    "# LD Decay\n",
    "\n",
    "This is a prototype/investigation of correctness based on comparisons to the expectations of two-locus statistics computed with Moments"
   ]
  },
  {
   "cell_type": "markdown",
   "id": "f6e442ff-7a67-4c6a-9ffb-97b7d9838ddb",
   "metadata": {},
   "source": [
    "## Imports"
   ]
  },
  {
   "cell_type": "code",
   "execution_count": 1,
   "id": "c723219c-3067-43b4-b6d9-55d65488237a",
   "metadata": {
    "execution": {
     "iopub.execute_input": "2024-06-08T01:11:32.286478Z",
     "iopub.status.busy": "2024-06-08T01:11:32.285943Z",
     "iopub.status.idle": "2024-06-08T01:11:32.889964Z",
     "shell.execute_reply": "2024-06-08T01:11:32.889560Z",
     "shell.execute_reply.started": "2024-06-08T01:11:32.286447Z"
    }
   },
   "outputs": [],
   "source": [
    "import concurrent.futures\n",
    "import io\n",
    "import warnings\n",
    "from itertools import product, zip_longest\n",
    "\n",
    "import demes\n",
    "import demesdraw\n",
    "import matplotlib.pyplot as plt\n",
    "import moments\n",
    "import msprime\n",
    "import numpy as np\n",
    "import tskit\n",
    "\n",
    "warnings.filterwarnings(\"error\")"
   ]
  },
  {
   "cell_type": "markdown",
   "id": "09b57f79-c2bf-4665-89eb-e749b7289e6a",
   "metadata": {},
   "source": [
    "## LD decay functionality\n",
    "\n",
    "Here is a prototype for LD decay functionality in tskit. It's parallelized across chunks of LD decay bins"
   ]
  },
  {
   "cell_type": "code",
   "execution_count": 2,
   "id": "ae611e6e-6ab7-408e-8046-47a99b6d28af",
   "metadata": {
    "execution": {
     "iopub.execute_input": "2024-06-08T01:11:32.890380Z",
     "iopub.status.busy": "2024-06-08T01:11:32.890298Z",
     "iopub.status.idle": "2024-06-08T01:11:32.896989Z",
     "shell.execute_reply": "2024-06-08T01:11:32.896758Z",
     "shell.execute_reply.started": "2024-06-08T01:11:32.890371Z"
    }
   },
   "outputs": [],
   "source": [
    "def get_max_dist_slice(pos, max_dist):\n",
    "    bounds = np.vstack([pos, pos + np.repeat(max_dist, len(pos))]).T\n",
    "    for start, stop in np.searchsorted(pos, bounds):\n",
    "        yield slice(start + 1, stop)\n",
    "\n",
    "\n",
    "def chunks(iterable, n, fillvalue=None):\n",
    "    args = [iter(iterable)] * n\n",
    "    i = 0\n",
    "    for chunk in zip_longest(*args, fillvalue=fillvalue):\n",
    "        yield i, tuple(filter(None, chunk))\n",
    "        i += n\n",
    "\n",
    "\n",
    "def bincount_unique(x, weights):\n",
    "    # passes the following test...\n",
    "    # bincount_unique(arr, np.ones_like(arr)) == np.unique(arr, return_counts=True)[1]\n",
    "    # find breakpoints with closed invervals, starting with 0\n",
    "\n",
    "    breaks = np.insert(np.where(x[1:] != x[:-1])[0] + 1, 0, 0)\n",
    "    return np.add.reduceat(weights, breaks)\n",
    "\n",
    "\n",
    "def ld_decay(\n",
    "    ts, chunk_size, n_threads, max_dist=None, win_size=None, bins=None, **ld_kwargs\n",
    "):\n",
    "    sites = np.arange(ts.num_sites, dtype=np.int32)\n",
    "    pos = ts.tables.sites.position\n",
    "    if bins is None:\n",
    "        bins = np.arange(0, max_dist + 1, step=win_size)\n",
    "    assert len(ld_kwargs.get(\"sample_sets\", [])) <= 1, \"only one sample set allowed\"\n",
    "\n",
    "    def worker(args):\n",
    "        i, (c_i, chunk) = args\n",
    "        result = np.zeros(len(bins) - 1, dtype=np.float64)\n",
    "        bin_count = np.zeros(len(bins) - 1, dtype=np.int64)\n",
    "        chunk_slice = slice(chunk[0].start - 1, chunk[-1].stop)\n",
    "        if \"sample_sets\" in ld_kwargs:\n",
    "            ld = ts.ld_matrix(\n",
    "                sites=[sites[c_i : c_i + chunk_size], sites[chunk_slice]], **ld_kwargs\n",
    "            )[0]\n",
    "        else:\n",
    "            ld = ts.ld_matrix(\n",
    "                sites=[sites[c_i : c_i + chunk_size], sites[chunk_slice]], **ld_kwargs\n",
    "            )\n",
    "        for k, (j, s) in enumerate(enumerate(chunk, c_i)):\n",
    "            ld_row = ld[k, sites[s] - c_i]  # implicit copy\n",
    "            bin_idx = np.searchsorted(bins[1:], pos[s] - pos[j])\n",
    "            bin_idx = bin_idx[~np.isnan(ld_row)]\n",
    "            ld_row = ld_row[~np.isnan(ld_row)]\n",
    "            if len(ld_row) == 0:\n",
    "                continue\n",
    "            bin_idx_uniq, bc = np.unique(bin_idx, return_counts=True)\n",
    "            bin_count[bin_idx_uniq] += bc\n",
    "            result[bin_idx_uniq] += bincount_unique(bin_idx, ld_row)\n",
    "        return result, bin_count\n",
    "\n",
    "    work = enumerate(chunks(get_max_dist_slice(pos, max_dist), chunk_size))\n",
    "    with concurrent.futures.ThreadPoolExecutor(max_workers=n_threads) as pool:\n",
    "        results = pool.map(worker, work)\n",
    "    result = []\n",
    "    bin_count = []\n",
    "    for r, bc in results:\n",
    "        result.append(r)\n",
    "        bin_count.append(bc)\n",
    "    return np.vstack(result).sum(0) / np.vstack(bin_count).sum(0)\n",
    "\n",
    "\n",
    "def ld_decay_two_way(\n",
    "    ts, chunk_size, n_threads, max_dist=None, win_size=None, bins=None, **ld_kwargs\n",
    "):\n",
    "    sites = np.arange(ts.num_sites, dtype=np.int32)\n",
    "    pos = ts.tables.sites.position\n",
    "    if bins is None:\n",
    "        bins = np.arange(0, max_dist + 1, step=win_size)\n",
    "\n",
    "    def worker(args):\n",
    "        i, (c_i, chunk) = args\n",
    "        result = np.zeros(len(bins) - 1, dtype=np.float64)\n",
    "        bin_count = np.zeros(len(bins) - 1, dtype=np.int64)\n",
    "        chunk_slice = slice(chunk[0].start - 1, chunk[-1].stop)\n",
    "        ld = ts.ld_matrix_two_way(\n",
    "            sites=[sites[c_i : c_i + chunk_size], sites[chunk_slice]], **ld_kwargs\n",
    "        )\n",
    "        for k, (j, s) in enumerate(enumerate(chunk, c_i)):\n",
    "            ld_row = ld[k, sites[s] - c_i]  # implicit copy\n",
    "            bin_idx = np.searchsorted(bins[1:], pos[s] - pos[j])\n",
    "            bin_idx = bin_idx[~np.isnan(ld_row)]\n",
    "            ld_row = ld_row[~np.isnan(ld_row)]\n",
    "            if len(ld_row) == 0:\n",
    "                continue\n",
    "            bin_idx_uniq, bc = np.unique(bin_idx, return_counts=True)\n",
    "            bin_count[bin_idx_uniq] += bc\n",
    "            result[bin_idx_uniq] += bincount_unique(bin_idx, ld_row)\n",
    "        return result, bin_count\n",
    "\n",
    "    work = enumerate(chunks(get_max_dist_slice(pos, max_dist), chunk_size))\n",
    "    with concurrent.futures.ThreadPoolExecutor(max_workers=n_threads) as pool:\n",
    "        results = pool.map(worker, work)\n",
    "    result = []\n",
    "    bin_count = []\n",
    "    for r, bc in results:\n",
    "        result.append(r)\n",
    "        bin_count.append(bc)\n",
    "    return np.vstack(result).sum(0) / np.vstack(bin_count).sum(0)"
   ]
  },
  {
   "cell_type": "markdown",
   "id": "5d8ddd28-3236-4df6-9557-6d0cc7938601",
   "metadata": {},
   "source": [
    "## Comparisons between Moments and tskit LD decay"
   ]
  },
  {
   "cell_type": "markdown",
   "id": "a700fe4f-38da-4bac-85bb-f92a29216830",
   "metadata": {},
   "source": [
    "### Global Model Parameters"
   ]
  },
  {
   "cell_type": "code",
   "execution_count": 3,
   "id": "16bcd010-1d52-42bb-b314-a5f85d6351f3",
   "metadata": {
    "execution": {
     "iopub.execute_input": "2024-06-08T01:11:32.897743Z",
     "iopub.status.busy": "2024-06-08T01:11:32.897624Z",
     "iopub.status.idle": "2024-06-08T01:11:32.900967Z",
     "shell.execute_reply": "2024-06-08T01:11:32.900708Z",
     "shell.execute_reply.started": "2024-06-08T01:11:32.897735Z"
    }
   },
   "outputs": [
    {
     "data": {
      "text/plain": [
       "(0.02, 0.02)"
      ]
     },
     "execution_count": 3,
     "metadata": {},
     "output_type": "execute_result"
    }
   ],
   "source": [
    "SEED = 23\n",
    "\n",
    "Ne = 5_000\n",
    "r = 1e-6\n",
    "mu = 1e-6\n",
    "rho = 4 * Ne * r\n",
    "theta = 4 * Ne * mu\n",
    "\n",
    "rho, theta"
   ]
  },
  {
   "cell_type": "markdown",
   "id": "577c7473-cd9d-4f19-b133-244c834c0101",
   "metadata": {},
   "source": [
    "### Functionality to Run Moments and Tskit under 1-d demographies"
   ]
  },
  {
   "cell_type": "code",
   "execution_count": 4,
   "id": "9fa78dd4-428b-4b5e-9008-479797665b4d",
   "metadata": {
    "execution": {
     "iopub.execute_input": "2024-06-08T01:11:32.901471Z",
     "iopub.status.busy": "2024-06-08T01:11:32.901291Z",
     "iopub.status.idle": "2024-06-08T01:11:32.902973Z",
     "shell.execute_reply": "2024-06-08T01:11:32.902777Z",
     "shell.execute_reply.started": "2024-06-08T01:11:32.901462Z"
    }
   },
   "outputs": [],
   "source": [
    "def midpoint(bins):\n",
    "    return (bins[1:] + bins[:-1]) / 2\n",
    "\n",
    "\n",
    "def simpson(edge, mid):\n",
    "    return (edge[:-1] + 4 * mid + edge[1:]) / 6"
   ]
  },
  {
   "cell_type": "code",
   "execution_count": 5,
   "id": "9df5e206-13d3-49e6-86d8-ba092c1bdbca",
   "metadata": {
    "execution": {
     "iopub.execute_input": "2024-06-08T01:11:32.903419Z",
     "iopub.status.busy": "2024-06-08T01:11:32.903286Z",
     "iopub.status.idle": "2024-06-08T01:11:32.905495Z",
     "shell.execute_reply": "2024-06-08T01:11:32.905284Z",
     "shell.execute_reply.started": "2024-06-08T01:11:32.903410Z"
    }
   },
   "outputs": [],
   "source": [
    "def plot_comparison(bins, moments, tskit, rho, ylabel, titleadd=\"\", figsize=(8, 4)):\n",
    "    fig, axes = plt.subplots(1, 2, figsize=figsize)\n",
    "    for i in [0, 1]:\n",
    "        axes[i].plot(midpoint(bins) * rho, tskit, label=\"tskit\")\n",
    "        axes[i].plot(midpoint(bins) * rho, moments, label=\"moments\")\n",
    "        axes[i].legend()\n",
    "    axes[1].set_xscale(\"log\")\n",
    "    axes[1].set_yscale(\"log\") \n",
    "    fig.supylabel(ylabel)\n",
    "    fig.supxlabel(r\"$\\rho$\")\n",
    "    fig.suptitle(\" \".join([f\"Comparison of {ylabel} between moments and tskit\", titleadd]))\n",
    "    fig.tight_layout()"
   ]
  },
  {
   "cell_type": "code",
   "execution_count": 6,
   "id": "aae42e62-4b7e-4e19-a333-3cc89c03ab35",
   "metadata": {
    "execution": {
     "iopub.execute_input": "2024-06-08T01:11:32.905960Z",
     "iopub.status.busy": "2024-06-08T01:11:32.905871Z",
     "iopub.status.idle": "2024-06-08T01:11:32.908000Z",
     "shell.execute_reply": "2024-06-08T01:11:32.907767Z",
     "shell.execute_reply.started": "2024-06-08T01:11:32.905951Z"
    }
   },
   "outputs": [],
   "source": [
    "def gather_moments_data_1d(rho, theta, bins):\n",
    "    edges_result = moments.LD.Demographics1D.snm(rho=bins * rho, theta=theta)\n",
    "    mids_result = moments.LD.Demographics1D.snm(\n",
    "        rho=midpoint(bins) * rho,\n",
    "        theta=theta,\n",
    "    )\n",
    "    mids_ld_stats = np.vstack(mids_result[:-1])\n",
    "    mids_D2 = mids_ld_stats[:, 0]\n",
    "    mids_pi2 = mids_ld_stats[:, 2]\n",
    "    edges_ld_stats = np.vstack(edges_result[:-1])\n",
    "    edges_D2 = edges_ld_stats[:, 0]\n",
    "    edges_pi2 = edges_ld_stats[:, 2]\n",
    "\n",
    "    D2 = simpson(edges_D2, mids_D2)\n",
    "    pi2 = simpson(edges_pi2, mids_pi2)\n",
    "    return D2, pi2"
   ]
  },
  {
   "cell_type": "code",
   "execution_count": 7,
   "id": "43d99198-e76c-4100-98be-038fca7ad6ac",
   "metadata": {
    "execution": {
     "iopub.execute_input": "2024-06-08T01:11:32.908409Z",
     "iopub.status.busy": "2024-06-08T01:11:32.908324Z",
     "iopub.status.idle": "2024-06-08T01:11:32.910512Z",
     "shell.execute_reply": "2024-06-08T01:11:32.910243Z",
     "shell.execute_reply.started": "2024-06-08T01:11:32.908402Z"
    }
   },
   "outputs": [],
   "source": [
    "def gather_tskit_data_1d(Ne, r, mu, L, bins, max_dist, chunk_size):\n",
    "    ts = msprime.sim_ancestry(\n",
    "        samples=1_000,\n",
    "        population_size=Ne,\n",
    "        sequence_length=L,\n",
    "        recombination_rate=r,\n",
    "        random_seed=SEED,\n",
    "        discrete_genome=False,\n",
    "    )\n",
    "    ts = msprime.sim_mutations(ts, rate=mu, random_seed=SEED, discrete_genome=False)\n",
    "    decay_D2 = ld_decay(\n",
    "        ts,\n",
    "        max_dist=max_dist,\n",
    "        chunk_size=chunk_size,\n",
    "        n_threads=15,\n",
    "        bins=bins,\n",
    "        stat=\"D2_unbiased\",\n",
    "    )\n",
    "    decay_pi2 = ld_decay(\n",
    "        ts,\n",
    "        max_dist=max_dist,\n",
    "        chunk_size=chunk_size,\n",
    "        n_threads=15,\n",
    "        bins=bins,\n",
    "        stat=\"pi2_unbiased\",\n",
    "    )\n",
    "    return decay_D2, decay_pi2"
   ]
  },
  {
   "cell_type": "markdown",
   "id": "ce113958-3813-4b78-ab23-53d18f360c3f",
   "metadata": {},
   "source": [
    "### Comparisons of LD decay with 1d demographies\n",
    "Here, we examine the behavior of LD decay for sites, using 1d demographies, simulated in msprime and approximated with Moments"
   ]
  },
  {
   "cell_type": "code",
   "execution_count": null,
   "id": "45b10f95-bbe7-48d1-b4ac-8e36f7f848b5",
   "metadata": {
    "execution": {
     "iopub.execute_input": "2024-06-08T01:11:32.911031Z",
     "iopub.status.busy": "2024-06-08T01:11:32.910877Z"
    }
   },
   "outputs": [],
   "source": [
    "MAX_DIST = 100_000\n",
    "CHUNK_SIZE = 100\n",
    "BINS = np.arange(0, MAX_DIST + 1, step=CHUNK_SIZE)\n",
    "moments_D2, moments_pi2 = gather_moments_data_1d(rho, theta, BINS)\n",
    "tskit_D2, tskit_pi2 = gather_tskit_data_1d(\n",
    "    Ne=Ne, r=r, mu=mu, L=1_000_000, bins=BINS, max_dist=MAX_DIST, chunk_size=CHUNK_SIZE\n",
    ")"
   ]
  },
  {
   "cell_type": "code",
   "execution_count": null,
   "id": "14f71b2c-69be-4b71-ae12-35da438fd1c6",
   "metadata": {},
   "outputs": [],
   "source": [
    "plot_comparison(BINS, moments_D2 / moments_pi2, tskit_D2 / tskit_pi2, rho, r\"$\\sigma_d^2$\", figsize=(12, 6))"
   ]
  },
  {
   "cell_type": "markdown",
   "id": "f1a4d681-b244-4d88-a36d-c13c32f8f752",
   "metadata": {},
   "source": [
    "### Functionality to Run Moments and Tskit under 2-population demographies\n",
    "\n",
    "We generate demographies with demes, sampling populations A and B at time 0"
   ]
  },
  {
   "cell_type": "code",
   "execution_count": null,
   "id": "3bff9f59-8132-487a-8e94-52e0b1bcfb6d",
   "metadata": {},
   "outputs": [],
   "source": [
    "def gather_moments_data_demog(rho, theta, bins, demog):\n",
    "    edges_result = moments.Demes.LD(\n",
    "        demog,\n",
    "        sampled_demes=[\"A\", \"B\"],\n",
    "        sample_times=[0, 0],\n",
    "        rho=rho * bins,\n",
    "        theta=theta,\n",
    "    )\n",
    "    mids_result = moments.Demes.LD(\n",
    "        DEMOG,\n",
    "        sampled_demes=[\"A\", \"B\"],\n",
    "        sample_times=[0, 0],\n",
    "        rho=rho * midpoint(bins),\n",
    "        theta=theta,\n",
    "    )\n",
    "\n",
    "    mids_ld_stats = np.vstack(mids_result[:-1])\n",
    "    mids_D2_cross = mids_ld_stats[:, mids_result.names()[0].index('DD_0_1')]\n",
    "    mids_pi2_1 = mids_ld_stats[:, mids_result.names()[0].index('pi2_0_0_0_0')]\n",
    "    mids_pi2_2 = mids_ld_stats[:, mids_result.names()[0].index('pi2_1_1_1_1')]\n",
    "    edges_ld_stats = np.vstack(edges_result[:-1])\n",
    "    edges_D2_cross = edges_ld_stats[:, edges_result.names()[0].index('DD_0_1')]\n",
    "    edges_pi2_1 = edges_ld_stats[:, edges_result.names()[0].index('pi2_0_0_0_0')]\n",
    "    edges_pi2_2 = edges_ld_stats[:, edges_result.names()[0].index('pi2_1_1_1_1')]\n",
    "\n",
    "    D2 = simpson(edges_D2_cross, mids_D2_cross)\n",
    "    pi2 = simpson(np.sqrt(edges_pi2_1) * np.sqrt(edges_pi2_2), np.sqrt(mids_pi2_1) * np.sqrt(mids_pi2_2))\n",
    "\n",
    "    return D2, pi2"
   ]
  },
  {
   "cell_type": "code",
   "execution_count": null,
   "id": "84ddab00-b5e3-4e31-901d-33629e1634d7",
   "metadata": {},
   "outputs": [],
   "source": [
    "def gather_tskit_data_demog(Ne, r, mu, L, bins, max_dist, chunk_size, demog, seed):\n",
    "    ts = msprime.sim_ancestry(\n",
    "        samples=[\n",
    "            msprime.SampleSet(40, population=\"A\"),\n",
    "            msprime.SampleSet(40, population=\"B\"),\n",
    "        ],\n",
    "        sequence_length=L,\n",
    "        recombination_rate=r,\n",
    "        demography=msprime.Demography.from_demes(demog),\n",
    "        random_seed=seed,\n",
    "    )\n",
    "    ts = msprime.sim_mutations(ts, rate=mu, random_seed=seed)\n",
    "\n",
    "    decay_D2_cross = ld_decay_two_way(\n",
    "        ts,\n",
    "        max_dist=max_dist,\n",
    "        chunk_size=chunk_size,\n",
    "        n_threads=15,\n",
    "        bins=BINS,\n",
    "        stat=\"D2_unbiased\",\n",
    "        sample_sets=[ts.samples(population=1), ts.samples(population=2)],\n",
    "    )\n",
    "    decay_pi2_1 = ld_decay(\n",
    "        ts,\n",
    "        max_dist=max_dist,\n",
    "        chunk_size=chunk_size,\n",
    "        n_threads=15,\n",
    "        bins=BINS,\n",
    "        stat=\"pi2_unbiased\",\n",
    "        sample_sets=[ts.samples(population=1)],\n",
    "    )\n",
    "    decay_pi2_2 = ld_decay(\n",
    "        ts,\n",
    "        max_dist=max_dist,\n",
    "        chunk_size=chunk_size,\n",
    "        n_threads=15,\n",
    "        bins=BINS,\n",
    "        stat=\"pi2_unbiased\",\n",
    "        sample_sets=[ts.samples(population=2)],\n",
    "    )\n",
    "    return decay_D2_cross, np.sqrt(decay_pi2_1) * np.sqrt(decay_pi2_2)"
   ]
  },
  {
   "cell_type": "code",
   "execution_count": null,
   "id": "fec1596a-478a-41cf-9bb1-ce4e0621e6fe",
   "metadata": {},
   "outputs": [],
   "source": [
    "def gather_and_average(func, seeds, *args, **kwargs):\n",
    "    \"\"\"\n",
    "    Function for running many replicates with different seeds, averaging the final result\n",
    "    and returning the same data shape that the original functions return\n",
    "    \"\"\"\n",
    "    results = []\n",
    "    for i, seed in enumerate(seeds):\n",
    "        kwargs['seed'] = seed\n",
    "        n_digits = int(np.log10(len(seeds))) + 1\n",
    "        print(f\"Processing seed\\t{seed}\\t({str(i + 1).zfill(n_digits)}/{len(seeds)})\")\n",
    "        results.append(func(*args, **kwargs))\n",
    "    assert len({len(r) for r in results}) == 1, 'results of differing lengths'\n",
    "    assert len({len(a) for r in results for a in r}) == 1, 'results of differing lengths'\n",
    "    num_returned = len(results[0])\n",
    "    num_elems = len(results[0][0])\n",
    "    results = np.vstack(results).reshape(len(results), num_returned, num_elems)\n",
    "    results = results.mean(0)\n",
    "    return tuple(results[i] for i in range(num_returned))"
   ]
  },
  {
   "cell_type": "markdown",
   "id": "1a6b0781-5650-45ec-beea-928aca3733ed",
   "metadata": {},
   "source": [
    "### Comparisons of LD decay under 2-population demographies\n",
    "\n",
    "Here, we examine the behavior of LD decay for sites, using a simple 2-population demography. We sample each population at time 0"
   ]
  },
  {
   "cell_type": "code",
   "execution_count": null,
   "id": "75aa029e-41ae-4cbf-b4cb-8159130ab7ed",
   "metadata": {},
   "outputs": [],
   "source": [
    "DEMOG = demes.load(\n",
    "    io.StringIO(\n",
    "        \"\"\"\n",
    "time_units: generations\n",
    "defaults:\n",
    "  epoch:\n",
    "    start_size: 5000\n",
    "demes:\n",
    "  - name: X\n",
    "    epochs:\n",
    "      - end_time: 1000\n",
    "  - name: A\n",
    "    ancestors: [X]\n",
    "  - name: B\n",
    "    ancestors: [X]\n",
    "\"\"\"\n",
    "    )\n",
    ")\n",
    "plt.subplots(figsize=(5, 3))\n",
    "demesdraw.tubes(DEMOG, ax=plt.gca())"
   ]
  },
  {
   "cell_type": "code",
   "execution_count": null,
   "id": "222d18d8-133c-4de0-a128-2011995e3866",
   "metadata": {
    "scrolled": true
   },
   "outputs": [],
   "source": [
    "rng = np.random.RandomState(SEED)\n",
    "MAX_DIST = 10_000\n",
    "CHUNK_SIZE = 100\n",
    "BINS = np.arange(0, 10_000 + 1, step=CHUNK_SIZE)\n",
    "moments_D2_2pop, moments_pi2_2pop = gather_moments_data_demog(rho, theta, BINS, DEMOG)\n",
    "tskit_D2_2pop, tskit_pi2_2pop = gather_and_average(gather_tskit_data_demog, rng.randint(0, 2**31, 40), Ne=Ne, r=r, mu=mu, L=100_000, bins=BINS, max_dist=MAX_DIST, chunk_size=CHUNK_SIZE, demog=DEMOG)"
   ]
  },
  {
   "cell_type": "code",
   "execution_count": null,
   "id": "f7ff23fe-5213-40d2-98f5-ffee7825cc2f",
   "metadata": {},
   "outputs": [],
   "source": [
    "plot_comparison(BINS, moments_D2_2pop / moments_pi2_2pop, tskit_D2_2pop / tskit_pi2_2pop, rho, r\"$\\sigma_{D_{A,B}}^2$\", titleadd=\"for pop A and B (40 tskit replicates averaged)\", figsize=(12, 6))"
   ]
  },
  {
   "cell_type": "code",
   "execution_count": null,
   "id": "94f65c45-ed1c-4409-b3f5-e31f40419ac3",
   "metadata": {},
   "outputs": [],
   "source": [
    "MAX_DIST = 10_000\n",
    "CHUNK_SIZE = 100\n",
    "BINS = np.arange(0, MAX_DIST + 1, step=CHUNK_SIZE)\n",
    "moments_D2_2pop_1, moments_pi2_2pop_1 = gather_moments_data_demog(rho, theta, BINS, DEMOG)\n",
    "tskit_D2_2pop_1, tskit_pi2_2pop_1 = gather_tskit_data_demog(Ne=Ne, r=r, mu=mu, L=100_000, bins=BINS, max_dist=MAX_DIST, chunk_size=CHUNK_SIZE, demog=DEMOG, seed=SEED)"
   ]
  },
  {
   "cell_type": "code",
   "execution_count": null,
   "id": "0d23f862-80dc-48be-b0a8-813feeefc762",
   "metadata": {},
   "outputs": [],
   "source": [
    "plot_comparison(BINS, moments_D2_2pop_1 / moments_pi2_2pop_1, tskit_D2_2pop_1 / tskit_pi2_2pop_1, rho, r\"$\\sigma_{D_{A,B}}^2$\", titleadd=\"for pop A and B\", figsize=(12, 6))"
   ]
  },
  {
   "cell_type": "code",
   "execution_count": null,
   "id": "e5f7a12e-b367-47a7-8da7-51a2f934d74b",
   "metadata": {},
   "outputs": [],
   "source": [
    "BINS = np.logspace(1, 4, num=101)\n",
    "MAX_DIST = 10**4\n",
    "CHUNK_SIZE = 100\n",
    "moments_D2_2pop_1_log, moments_pi2_2pop_1_log = gather_moments_data_demog(rho, theta, BINS, DEMOG)\n",
    "tskit_D2_2pop_1_log, tskit_pi2_2pop_1_log = gather_tskit_data_demog(Ne=Ne, r=r, mu=mu, L=100_000, bins=BINS, max_dist=MAX_DIST, chunk_size=CHUNK_SIZE, demog=DEMOG, seed=SEED)"
   ]
  },
  {
   "cell_type": "code",
   "execution_count": null,
   "id": "1be03540-5137-407c-8187-d6affa380bbb",
   "metadata": {},
   "outputs": [],
   "source": [
    "plot_comparison(BINS, moments_D2_2pop_1_log / moments_pi2_2pop_1_log, tskit_D2_2pop_1_log / tskit_pi2_2pop_1_log, rho, r\"$\\sigma_{D_{A,B}}^2$\", titleadd=\"for pop A and B (log bins)\", figsize=(12, 6))"
   ]
  },
  {
   "cell_type": "code",
   "execution_count": null,
   "id": "35898bbf-9e37-48d2-b76c-9b2283bf508d",
   "metadata": {
    "scrolled": true
   },
   "outputs": [],
   "source": [
    "rng = np.random.RandomState(SEED)\n",
    "BINS = np.logspace(1, 4, num=101)\n",
    "MAX_DIST = 10**4\n",
    "CHUNK_SIZE = 100\n",
    "BINS = np.arange(0, 10_000 + 1, step=CHUNK_SIZE)\n",
    "moments_D2_2pop_log, moments_pi2_2pop_log = gather_moments_data_demog(rho, theta, BINS, DEMOG)\n",
    "tskit_D2_2pop_log, tskit_pi2_2pop_log = gather_and_average(gather_tskit_data_demog, rng.randint(0, 2**31, 40), Ne=Ne, r=r, mu=mu, L=100_000, bins=BINS, max_dist=MAX_DIST, chunk_size=CHUNK_SIZE, demog=DEMOG)"
   ]
  },
  {
   "cell_type": "code",
   "execution_count": null,
   "id": "04d38de0-d176-4568-8084-b5e0accfe3f3",
   "metadata": {},
   "outputs": [],
   "source": [
    "plot_comparison(BINS, moments_D2_2pop_log / moments_pi2_2pop_log, tskit_D2_2pop_log / tskit_pi2_2pop_log, rho, r\"$\\sigma_{D_{A,B}}^2$\", titleadd=\"for pop A and B (log bins -- 40 replicates)\", figsize=(12, 6))"
   ]
  },
  {
   "cell_type": "markdown",
   "id": "fcddbb40-f59a-484b-8327-925fb77645a1",
   "metadata": {},
   "source": [
    "TODO: investigate log bins and chunk size!!!!!"
   ]
  }
 ],
 "metadata": {
  "kernelspec": {
   "display_name": "tskit-ld-1",
   "language": "python",
   "name": "tskit-ld-1"
  },
  "language_info": {
   "codemirror_mode": {
    "name": "ipython",
    "version": 3
   },
   "file_extension": ".py",
   "mimetype": "text/x-python",
   "name": "python",
   "nbconvert_exporter": "python",
   "pygments_lexer": "ipython3",
   "version": "3.12.3"
  }
 },
 "nbformat": 4,
 "nbformat_minor": 5
}
