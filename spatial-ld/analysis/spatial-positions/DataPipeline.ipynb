{
 "cells": [
  {
   "cell_type": "code",
   "execution_count": 1,
   "id": "b5458c6a-08c9-456b-ab5a-8960247a32b9",
   "metadata": {
    "execution": {
     "iopub.execute_input": "2024-06-25T08:38:39.272284Z",
     "iopub.status.busy": "2024-06-25T08:38:39.271707Z",
     "iopub.status.idle": "2024-06-25T08:38:39.640775Z",
     "shell.execute_reply": "2024-06-25T08:38:39.640377Z",
     "shell.execute_reply.started": "2024-06-25T08:38:39.272233Z"
    }
   },
   "outputs": [],
   "source": [
    "import re\n",
    "from pathlib import Path\n",
    "\n",
    "from spatial import process_data_and_write_parquet"
   ]
  },
  {
   "cell_type": "code",
   "execution_count": 2,
   "id": "e6f9e508-14a3-41e9-9a91-52f73f0bc16d",
   "metadata": {
    "execution": {
     "iopub.execute_input": "2024-06-25T08:38:40.568172Z",
     "iopub.status.busy": "2024-06-25T08:38:40.567141Z",
     "iopub.status.idle": "2024-06-25T08:38:40.575506Z",
     "shell.execute_reply": "2024-06-25T08:38:40.573818Z",
     "shell.execute_reply.started": "2024-06-25T08:38:40.568117Z"
    }
   },
   "outputs": [],
   "source": [
    "# DATA_DIR = Path(\"~/simulation-outputs/spatial-ld-final\").expanduser()\n",
    "# IN_FILES = list((DATA_DIR / \"trees\").glob(\"*.trees.tsz\"))[0:10]\n",
    "# FILES = {re.search(r\"trees/output-([0-9]+-[0-9]+).trees.tsz\", str(p)).group(1): p for p in IN_FILES}\n",
    "# assert len(FILES) == len(IN_FILES)\n",
    "# OUT_DIR = DATA_DIR / \"raw-individuals\"\n",
    "# OUT_DIR.mkdir()"
   ]
  },
  {
   "cell_type": "code",
   "execution_count": 3,
   "id": "404e5634-f0a7-4593-b7d1-e0c4c668ef5d",
   "metadata": {
    "execution": {
     "iopub.execute_input": "2024-06-25T08:38:45.348544Z",
     "iopub.status.busy": "2024-06-25T08:38:45.347680Z",
     "iopub.status.idle": "2024-06-25T08:38:45.369855Z",
     "shell.execute_reply": "2024-06-25T08:38:45.369173Z",
     "shell.execute_reply.started": "2024-06-25T08:38:45.348479Z"
    }
   },
   "outputs": [],
   "source": [
    "DATA_DIR = Path(\"~/simulation-outputs/spatial-ld-final\").expanduser()\n",
    "IN_FILES = list((DATA_DIR / \"trees\").glob(\"*.trees.tsz\"))\n",
    "FILES = {re.search(r\"trees/output-([0-9]+-[0-9]+).trees.tsz\", str(p)).group(1): p for p in IN_FILES}\n",
    "assert len(FILES) == len(IN_FILES), \"filename run ids not unique\"\n",
    "OUT_PATH = DATA_DIR / \"raw-individuals.parquet\""
   ]
  },
  {
   "cell_type": "code",
   "execution_count": 4,
   "id": "1b920893-efbe-41e3-96ee-2e2865ae8153",
   "metadata": {
    "execution": {
     "iopub.execute_input": "2024-06-25T08:38:46.451932Z",
     "iopub.status.busy": "2024-06-25T08:38:46.451008Z",
     "iopub.status.idle": "2024-06-25T09:17:31.104634Z",
     "shell.execute_reply": "2024-06-25T09:17:31.104099Z",
     "shell.execute_reply.started": "2024-06-25T08:38:46.451874Z"
    },
    "scrolled": true
   },
   "outputs": [
    {
     "name": "stderr",
     "output_type": "stream",
     "text": [
      "[Parallel(n_jobs=17)]: Using backend LokyBackend with 17 concurrent workers.\n",
      "[Parallel(n_jobs=17)]: Done   7 tasks      | elapsed:   13.3s\n",
      "[Parallel(n_jobs=17)]: Done  16 tasks      | elapsed:   16.4s\n",
      "[Parallel(n_jobs=17)]: Done  27 tasks      | elapsed:   26.5s\n",
      "[Parallel(n_jobs=17)]: Done  38 tasks      | elapsed:   37.0s\n",
      "[Parallel(n_jobs=17)]: Done  51 tasks      | elapsed:   41.9s\n",
      "[Parallel(n_jobs=17)]: Done  64 tasks      | elapsed:   51.5s\n",
      "[Parallel(n_jobs=17)]: Done  79 tasks      | elapsed:  1.1min\n",
      "[Parallel(n_jobs=17)]: Done  94 tasks      | elapsed:  1.2min\n",
      "[Parallel(n_jobs=17)]: Done 111 tasks      | elapsed:  1.4min\n",
      "[Parallel(n_jobs=17)]: Done 128 tasks      | elapsed:  1.6min\n",
      "[Parallel(n_jobs=17)]: Done 147 tasks      | elapsed:  1.8min\n",
      "[Parallel(n_jobs=17)]: Done 166 tasks      | elapsed:  2.0min\n",
      "[Parallel(n_jobs=17)]: Done 187 tasks      | elapsed:  2.3min\n",
      "[Parallel(n_jobs=17)]: Done 208 tasks      | elapsed:  2.6min\n",
      "[Parallel(n_jobs=17)]: Done 231 tasks      | elapsed:  2.8min\n",
      "[Parallel(n_jobs=17)]: Done 254 tasks      | elapsed:  3.1min\n",
      "[Parallel(n_jobs=17)]: Done 279 tasks      | elapsed:  3.4min\n",
      "[Parallel(n_jobs=17)]: Done 304 tasks      | elapsed:  3.6min\n",
      "[Parallel(n_jobs=17)]: Done 331 tasks      | elapsed:  4.0min\n",
      "[Parallel(n_jobs=17)]: Done 358 tasks      | elapsed:  4.3min\n",
      "[Parallel(n_jobs=17)]: Done 387 tasks      | elapsed:  4.6min\n",
      "[Parallel(n_jobs=17)]: Done 416 tasks      | elapsed:  5.0min\n",
      "[Parallel(n_jobs=17)]: Done 447 tasks      | elapsed:  5.3min\n",
      "[Parallel(n_jobs=17)]: Done 478 tasks      | elapsed:  5.7min\n",
      "[Parallel(n_jobs=17)]: Done 511 tasks      | elapsed:  6.0min\n",
      "[Parallel(n_jobs=17)]: Done 544 tasks      | elapsed:  6.4min\n",
      "[Parallel(n_jobs=17)]: Done 579 tasks      | elapsed:  6.8min\n",
      "[Parallel(n_jobs=17)]: Done 614 tasks      | elapsed:  7.2min\n",
      "[Parallel(n_jobs=17)]: Done 651 tasks      | elapsed:  7.6min\n",
      "[Parallel(n_jobs=17)]: Done 688 tasks      | elapsed:  8.1min\n",
      "[Parallel(n_jobs=17)]: Done 727 tasks      | elapsed:  8.5min\n",
      "[Parallel(n_jobs=17)]: Done 766 tasks      | elapsed:  9.0min\n",
      "[Parallel(n_jobs=17)]: Done 807 tasks      | elapsed:  9.5min\n",
      "[Parallel(n_jobs=17)]: Done 848 tasks      | elapsed:  9.9min\n",
      "/home/lkirk/repo/tskit-ld/ve/lib/python3.12/site-packages/joblib/externals/loky/process_executor.py:752: UserWarning: A worker stopped while some jobs were given to the executor. This can be caused by a too short worker timeout or by a memory leak.\n",
      "  warnings.warn(\n",
      "[Parallel(n_jobs=17)]: Done 891 tasks      | elapsed: 10.4min\n",
      "[Parallel(n_jobs=17)]: Done 934 tasks      | elapsed: 11.0min\n",
      "[Parallel(n_jobs=17)]: Done 979 tasks      | elapsed: 11.5min\n",
      "[Parallel(n_jobs=17)]: Done 1024 tasks      | elapsed: 12.0min\n",
      "[Parallel(n_jobs=17)]: Done 1071 tasks      | elapsed: 12.5min\n",
      "[Parallel(n_jobs=17)]: Done 1118 tasks      | elapsed: 13.1min\n",
      "[Parallel(n_jobs=17)]: Done 1167 tasks      | elapsed: 13.6min\n",
      "[Parallel(n_jobs=17)]: Done 1216 tasks      | elapsed: 14.2min\n",
      "[Parallel(n_jobs=17)]: Done 1267 tasks      | elapsed: 14.8min\n",
      "[Parallel(n_jobs=17)]: Done 1318 tasks      | elapsed: 15.4min\n",
      "[Parallel(n_jobs=17)]: Done 1371 tasks      | elapsed: 16.0min\n",
      "[Parallel(n_jobs=17)]: Done 1424 tasks      | elapsed: 16.6min\n",
      "[Parallel(n_jobs=17)]: Done 1479 tasks      | elapsed: 17.3min\n",
      "[Parallel(n_jobs=17)]: Done 1534 tasks      | elapsed: 17.9min\n",
      "[Parallel(n_jobs=17)]: Done 1591 tasks      | elapsed: 18.5min\n",
      "[Parallel(n_jobs=17)]: Done 1648 tasks      | elapsed: 19.2min\n",
      "[Parallel(n_jobs=17)]: Done 1707 tasks      | elapsed: 19.9min\n",
      "[Parallel(n_jobs=17)]: Done 1766 tasks      | elapsed: 20.6min\n",
      "[Parallel(n_jobs=17)]: Done 1827 tasks      | elapsed: 21.3min\n",
      "[Parallel(n_jobs=17)]: Done 1888 tasks      | elapsed: 22.0min\n",
      "[Parallel(n_jobs=17)]: Done 1951 tasks      | elapsed: 22.8min\n",
      "[Parallel(n_jobs=17)]: Done 2014 tasks      | elapsed: 23.5min\n",
      "[Parallel(n_jobs=17)]: Done 2079 tasks      | elapsed: 24.2min\n",
      "[Parallel(n_jobs=17)]: Done 2144 tasks      | elapsed: 25.0min\n",
      "[Parallel(n_jobs=17)]: Done 2211 tasks      | elapsed: 25.8min\n",
      "[Parallel(n_jobs=17)]: Done 2278 tasks      | elapsed: 26.6min\n",
      "[Parallel(n_jobs=17)]: Done 2347 tasks      | elapsed: 27.4min\n",
      "[Parallel(n_jobs=17)]: Done 2416 tasks      | elapsed: 28.2min\n",
      "[Parallel(n_jobs=17)]: Done 2487 tasks      | elapsed: 29.0min\n",
      "[Parallel(n_jobs=17)]: Done 2558 tasks      | elapsed: 29.8min\n",
      "[Parallel(n_jobs=17)]: Done 2631 tasks      | elapsed: 30.7min\n",
      "[Parallel(n_jobs=17)]: Done 2704 tasks      | elapsed: 31.6min\n",
      "[Parallel(n_jobs=17)]: Done 2779 tasks      | elapsed: 32.4min\n",
      "[Parallel(n_jobs=17)]: Done 2854 tasks      | elapsed: 33.4min\n",
      "[Parallel(n_jobs=17)]: Done 2931 tasks      | elapsed: 34.2min\n",
      "[Parallel(n_jobs=17)]: Done 3008 tasks      | elapsed: 35.2min\n",
      "[Parallel(n_jobs=17)]: Done 3087 tasks      | elapsed: 36.1min\n",
      "[Parallel(n_jobs=17)]: Done 3166 tasks      | elapsed: 37.1min\n",
      "[Parallel(n_jobs=17)]: Done 3247 tasks      | elapsed: 38.0min\n",
      "[Parallel(n_jobs=17)]: Done 3285 out of 3285 | elapsed: 38.4min finished\n"
     ]
    }
   ],
   "source": [
    "process_data_and_write_parquet(FILES, OUT_PATH, n_jobs=17)"
   ]
  }
 ],
 "metadata": {
  "kernelspec": {
   "display_name": "tskit-ld-1",
   "language": "python",
   "name": "tskit-ld-1"
  },
  "language_info": {
   "codemirror_mode": {
    "name": "ipython",
    "version": 3
   },
   "file_extension": ".py",
   "mimetype": "text/x-python",
   "name": "python",
   "nbconvert_exporter": "python",
   "pygments_lexer": "ipython3",
   "version": "3.12.3"
  }
 },
 "nbformat": 4,
 "nbformat_minor": 5
}
